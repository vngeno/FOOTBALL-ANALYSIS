{
  "nbformat": 4,
  "nbformat_minor": 0,
  "metadata": {
    "colab": {
      "name": "FOOTBALL ANALYSIS - REGRESSION MODELLING",
      "provenance": [],
      "toc_visible": true,
      "include_colab_link": true
    },
    "kernelspec": {
      "name": "python3",
      "display_name": "Python 3"
    },
    "language_info": {
      "name": "python"
    }
  },
  "cells": [
    {
      "cell_type": "markdown",
      "metadata": {
        "id": "view-in-github",
        "colab_type": "text"
      },
      "source": [
        "<a href=\"https://colab.research.google.com/github/vngeno/FOOTBALL-ANALYSIS/blob/main/FOOTBALL_ANALYSIS_REGRESSION_MODELLING.ipynb\" target=\"_parent\"><img src=\"https://colab.research.google.com/assets/colab-badge.svg\" alt=\"Open In Colab\"/></a>"
      ]
    },
    {
      "cell_type": "markdown",
      "metadata": {
        "id": "BIH79A8m9sQp"
      },
      "source": [
        "#DEFINING THE QUESTION"
      ]
    },
    {
      "cell_type": "markdown",
      "metadata": {
        "id": "QZgWcH8P90ix"
      },
      "source": [
        "##Specifying the Question"
      ]
    },
    {
      "cell_type": "markdown",
      "metadata": {
        "id": "6el81fdgvBgj"
      },
      "source": [
        "We will work as football analysts for a company - Mchezopesa Ltd to predict the result of a game between team 1 and team 2 based on who's home and who's away and on whether or not the game is friendly."
      ]
    },
    {
      "cell_type": "markdown",
      "metadata": {
        "id": "2Eu8ZNlC99jv"
      },
      "source": [
        "##Understanding the Context"
      ]
    },
    {
      "cell_type": "markdown",
      "metadata": {
        "id": "UOxAKNf9vhxZ"
      },
      "source": [
        "The men's FIFA World Ranking is a ranking system for men's national teams in association football, currently led by Belgium.The teams of the men's member nations of FIFA, football's world governing body, are ranked based on their game results with the most successful teams being ranked highest. \n",
        "\n",
        "The rankings were introduced in December 1992, and eight teams (Argentina, Belgium, Brazil, France, Germany, Italy, the Netherlands and Spain) have held the top position, of which Brazil have spent the longest ranked first.\n",
        "\n",
        "A points system is used, with points being awarded based on the results of all FIFA-recognised full international matches. The ranking system has been revamped on several occasions, generally responding to criticism that the preceding calculation method did not effectively reflect the relative strengths of the national teams."
      ]
    },
    {
      "cell_type": "markdown",
      "metadata": {
        "id": "qeWNUrBQ-E8A"
      },
      "source": [
        "##Recording the Experimental Design"
      ]
    },
    {
      "cell_type": "markdown",
      "metadata": {
        "id": "DZEDy7dBvxnn"
      },
      "source": [
        "This is the expected flow for the assessment:\n",
        "\n",
        "Data Cleaning\n",
        "\n",
        "Perform EDA\n",
        "\n",
        "Perform any necessary feature engineering\n",
        "\n",
        "Check for multicollinearity\n",
        "\n",
        "Start building the model\n",
        "\n",
        "Cross-validate the model\n",
        "\n",
        "Compute RMSE\n",
        "\n",
        "Conclusion\n",
        "\n",
        "Challenging the Solution"
      ]
    },
    {
      "cell_type": "markdown",
      "metadata": {
        "id": "VONPhv-8wpbP"
      },
      "source": [
        "#DATA PREPARATION"
      ]
    },
    {
      "cell_type": "markdown",
      "metadata": {
        "id": "gyh2_4Fv-S3o"
      },
      "source": [
        "##Importing the Libraries"
      ]
    },
    {
      "cell_type": "code",
      "metadata": {
        "id": "rBsxB6r--W2-"
      },
      "source": [
        "#Import libraries for loading and cleaning data\n",
        "import numpy as np\n",
        "import pandas as pd\n",
        "\n",
        "import matplotlib.pyplot as plt\n",
        "import seaborn as sns\n",
        "\n",
        "from sklearn.linear_model import LinearRegression\n",
        "from sklearn.linear_model import LogisticRegression\n",
        "from sklearn.model_selection import KFold\n",
        "from sklearn.model_selection import train_test_split\n",
        "\n",
        "from sklearn import metrics\n",
        "from sklearn.metrics import confusion_matrix"
      ],
      "execution_count": 1,
      "outputs": []
    },
    {
      "cell_type": "markdown",
      "metadata": {
        "id": "_Xe5YhO4-v2p"
      },
      "source": [
        "##Reading the Data"
      ]
    },
    {
      "cell_type": "code",
      "metadata": {
        "colab": {
          "base_uri": "https://localhost:8080/",
          "height": 165
        },
        "id": "ITbUPXTs--9B",
        "outputId": "d48c6ae5-55c9-457e-a21a-e1961643c2bc"
      },
      "source": [
        "#The rank dataset\n",
        "df_rank = pd.read_csv('/content/fifa_ranking.csv')\n",
        "df_rank.head(2)"
      ],
      "execution_count": 2,
      "outputs": [
        {
          "output_type": "execute_result",
          "data": {
            "text/html": [
              "<div>\n",
              "<style scoped>\n",
              "    .dataframe tbody tr th:only-of-type {\n",
              "        vertical-align: middle;\n",
              "    }\n",
              "\n",
              "    .dataframe tbody tr th {\n",
              "        vertical-align: top;\n",
              "    }\n",
              "\n",
              "    .dataframe thead th {\n",
              "        text-align: right;\n",
              "    }\n",
              "</style>\n",
              "<table border=\"1\" class=\"dataframe\">\n",
              "  <thead>\n",
              "    <tr style=\"text-align: right;\">\n",
              "      <th></th>\n",
              "      <th>rank</th>\n",
              "      <th>country_full</th>\n",
              "      <th>country_abrv</th>\n",
              "      <th>total_points</th>\n",
              "      <th>previous_points</th>\n",
              "      <th>rank_change</th>\n",
              "      <th>cur_year_avg</th>\n",
              "      <th>cur_year_avg_weighted</th>\n",
              "      <th>last_year_avg</th>\n",
              "      <th>last_year_avg_weighted</th>\n",
              "      <th>two_year_ago_avg</th>\n",
              "      <th>two_year_ago_weighted</th>\n",
              "      <th>three_year_ago_avg</th>\n",
              "      <th>three_year_ago_weighted</th>\n",
              "      <th>confederation</th>\n",
              "      <th>rank_date</th>\n",
              "    </tr>\n",
              "  </thead>\n",
              "  <tbody>\n",
              "    <tr>\n",
              "      <th>0</th>\n",
              "      <td>1</td>\n",
              "      <td>Germany</td>\n",
              "      <td>GER</td>\n",
              "      <td>0.0</td>\n",
              "      <td>57</td>\n",
              "      <td>0</td>\n",
              "      <td>0.0</td>\n",
              "      <td>0.0</td>\n",
              "      <td>0.0</td>\n",
              "      <td>0.0</td>\n",
              "      <td>0.0</td>\n",
              "      <td>0.0</td>\n",
              "      <td>0.0</td>\n",
              "      <td>0.0</td>\n",
              "      <td>UEFA</td>\n",
              "      <td>1993-08-08</td>\n",
              "    </tr>\n",
              "    <tr>\n",
              "      <th>1</th>\n",
              "      <td>2</td>\n",
              "      <td>Italy</td>\n",
              "      <td>ITA</td>\n",
              "      <td>0.0</td>\n",
              "      <td>57</td>\n",
              "      <td>0</td>\n",
              "      <td>0.0</td>\n",
              "      <td>0.0</td>\n",
              "      <td>0.0</td>\n",
              "      <td>0.0</td>\n",
              "      <td>0.0</td>\n",
              "      <td>0.0</td>\n",
              "      <td>0.0</td>\n",
              "      <td>0.0</td>\n",
              "      <td>UEFA</td>\n",
              "      <td>1993-08-08</td>\n",
              "    </tr>\n",
              "  </tbody>\n",
              "</table>\n",
              "</div>"
            ],
            "text/plain": [
              "   rank country_full  ... confederation   rank_date\n",
              "0     1      Germany  ...          UEFA  1993-08-08\n",
              "1     2        Italy  ...          UEFA  1993-08-08\n",
              "\n",
              "[2 rows x 16 columns]"
            ]
          },
          "metadata": {
            "tags": []
          },
          "execution_count": 2
        }
      ]
    },
    {
      "cell_type": "code",
      "metadata": {
        "colab": {
          "base_uri": "https://localhost:8080/",
          "height": 111
        },
        "id": "bJa90FoRCCKQ",
        "outputId": "c1c3aaf0-abb3-4f6b-9bb0-2d79b66c5f54"
      },
      "source": [
        "#The result dataset\n",
        "df_result = pd.read_csv('/content/results.csv')\n",
        "df_result.head(2)"
      ],
      "execution_count": 3,
      "outputs": [
        {
          "output_type": "execute_result",
          "data": {
            "text/html": [
              "<div>\n",
              "<style scoped>\n",
              "    .dataframe tbody tr th:only-of-type {\n",
              "        vertical-align: middle;\n",
              "    }\n",
              "\n",
              "    .dataframe tbody tr th {\n",
              "        vertical-align: top;\n",
              "    }\n",
              "\n",
              "    .dataframe thead th {\n",
              "        text-align: right;\n",
              "    }\n",
              "</style>\n",
              "<table border=\"1\" class=\"dataframe\">\n",
              "  <thead>\n",
              "    <tr style=\"text-align: right;\">\n",
              "      <th></th>\n",
              "      <th>date</th>\n",
              "      <th>home_team</th>\n",
              "      <th>away_team</th>\n",
              "      <th>home_score</th>\n",
              "      <th>away_score</th>\n",
              "      <th>tournament</th>\n",
              "      <th>city</th>\n",
              "      <th>country</th>\n",
              "      <th>neutral</th>\n",
              "    </tr>\n",
              "  </thead>\n",
              "  <tbody>\n",
              "    <tr>\n",
              "      <th>0</th>\n",
              "      <td>1872-11-30</td>\n",
              "      <td>Scotland</td>\n",
              "      <td>England</td>\n",
              "      <td>0</td>\n",
              "      <td>0</td>\n",
              "      <td>Friendly</td>\n",
              "      <td>Glasgow</td>\n",
              "      <td>Scotland</td>\n",
              "      <td>False</td>\n",
              "    </tr>\n",
              "    <tr>\n",
              "      <th>1</th>\n",
              "      <td>1873-03-08</td>\n",
              "      <td>England</td>\n",
              "      <td>Scotland</td>\n",
              "      <td>4</td>\n",
              "      <td>2</td>\n",
              "      <td>Friendly</td>\n",
              "      <td>London</td>\n",
              "      <td>England</td>\n",
              "      <td>False</td>\n",
              "    </tr>\n",
              "  </tbody>\n",
              "</table>\n",
              "</div>"
            ],
            "text/plain": [
              "         date home_team away_team  ...     city   country neutral\n",
              "0  1872-11-30  Scotland   England  ...  Glasgow  Scotland   False\n",
              "1  1873-03-08   England  Scotland  ...   London   England   False\n",
              "\n",
              "[2 rows x 9 columns]"
            ]
          },
          "metadata": {
            "tags": []
          },
          "execution_count": 3
        }
      ]
    },
    {
      "cell_type": "code",
      "metadata": {
        "colab": {
          "base_uri": "https://localhost:8080/"
        },
        "id": "Uf6LlBSvM6Sf",
        "outputId": "d3cff156-ff64-47b7-eb04-9664179e9929"
      },
      "source": [
        "#The fifa ranking dataset has 57793 rows and 16 columns\n",
        "df_rank.shape"
      ],
      "execution_count": 4,
      "outputs": [
        {
          "output_type": "execute_result",
          "data": {
            "text/plain": [
              "(57793, 16)"
            ]
          },
          "metadata": {
            "tags": []
          },
          "execution_count": 4
        }
      ]
    },
    {
      "cell_type": "code",
      "metadata": {
        "colab": {
          "base_uri": "https://localhost:8080/"
        },
        "id": "luEZbjnbNLFF",
        "outputId": "72f014bc-8c26-41c7-e6e9-8c00e834004e"
      },
      "source": [
        "#The results dataset has 40839 rows and 9 columns\n",
        "df_result.shape"
      ],
      "execution_count": 5,
      "outputs": [
        {
          "output_type": "execute_result",
          "data": {
            "text/plain": [
              "(40839, 9)"
            ]
          },
          "metadata": {
            "tags": []
          },
          "execution_count": 5
        }
      ]
    },
    {
      "cell_type": "code",
      "metadata": {
        "id": "l0gtwsyaPR1B"
      },
      "source": [
        "#We'll now change the date columns in both dataframes to the appropriate data objects to enable us split it into month and year\n",
        "df_rank['rank_date'] = pd.to_datetime(df_rank['rank_date'])\n",
        "df_result['date'] = pd.to_datetime(df_result['date'])"
      ],
      "execution_count": 6,
      "outputs": []
    },
    {
      "cell_type": "code",
      "metadata": {
        "colab": {
          "base_uri": "https://localhost:8080/"
        },
        "id": "Y31PckuKO3bO",
        "outputId": "fcfac907-cc9e-4c52-aafa-5bd63875d647"
      },
      "source": [
        "#Checking for the appropriate data types\n",
        "df_rank.info()"
      ],
      "execution_count": 7,
      "outputs": [
        {
          "output_type": "stream",
          "text": [
            "<class 'pandas.core.frame.DataFrame'>\n",
            "RangeIndex: 57793 entries, 0 to 57792\n",
            "Data columns (total 16 columns):\n",
            " #   Column                   Non-Null Count  Dtype         \n",
            "---  ------                   --------------  -----         \n",
            " 0   rank                     57793 non-null  int64         \n",
            " 1   country_full             57793 non-null  object        \n",
            " 2   country_abrv             57793 non-null  object        \n",
            " 3   total_points             57793 non-null  float64       \n",
            " 4   previous_points          57793 non-null  int64         \n",
            " 5   rank_change              57793 non-null  int64         \n",
            " 6   cur_year_avg             57793 non-null  float64       \n",
            " 7   cur_year_avg_weighted    57793 non-null  float64       \n",
            " 8   last_year_avg            57793 non-null  float64       \n",
            " 9   last_year_avg_weighted   57793 non-null  float64       \n",
            " 10  two_year_ago_avg         57793 non-null  float64       \n",
            " 11  two_year_ago_weighted    57793 non-null  float64       \n",
            " 12  three_year_ago_avg       57793 non-null  float64       \n",
            " 13  three_year_ago_weighted  57793 non-null  float64       \n",
            " 14  confederation            57793 non-null  object        \n",
            " 15  rank_date                57793 non-null  datetime64[ns]\n",
            "dtypes: datetime64[ns](1), float64(9), int64(3), object(3)\n",
            "memory usage: 7.1+ MB\n"
          ],
          "name": "stdout"
        }
      ]
    },
    {
      "cell_type": "code",
      "metadata": {
        "colab": {
          "base_uri": "https://localhost:8080/"
        },
        "id": "e6_cL_9RO7lN",
        "outputId": "b91b035a-36ae-4fc8-ad3b-5de13ff6f1f5"
      },
      "source": [
        "df_result.info()"
      ],
      "execution_count": 8,
      "outputs": [
        {
          "output_type": "stream",
          "text": [
            "<class 'pandas.core.frame.DataFrame'>\n",
            "RangeIndex: 40839 entries, 0 to 40838\n",
            "Data columns (total 9 columns):\n",
            " #   Column      Non-Null Count  Dtype         \n",
            "---  ------      --------------  -----         \n",
            " 0   date        40839 non-null  datetime64[ns]\n",
            " 1   home_team   40839 non-null  object        \n",
            " 2   away_team   40839 non-null  object        \n",
            " 3   home_score  40839 non-null  int64         \n",
            " 4   away_score  40839 non-null  int64         \n",
            " 5   tournament  40839 non-null  object        \n",
            " 6   city        40839 non-null  object        \n",
            " 7   country     40839 non-null  object        \n",
            " 8   neutral     40839 non-null  bool          \n",
            "dtypes: bool(1), datetime64[ns](1), int64(2), object(5)\n",
            "memory usage: 2.5+ MB\n"
          ],
          "name": "stdout"
        }
      ]
    },
    {
      "cell_type": "markdown",
      "metadata": {
        "id": "TayeKKeRNm2-"
      },
      "source": [
        "##Data Cleaning"
      ]
    },
    {
      "cell_type": "code",
      "metadata": {
        "colab": {
          "base_uri": "https://localhost:8080/"
        },
        "id": "HX-s6dOOOQxt",
        "outputId": "7c616a9d-c831-42fa-d95c-b760b4f19d8a"
      },
      "source": [
        "df_rank['year'] = df_rank['rank_date'].dt.year\n",
        "df_rank['month'] = df_rank['rank_date'].dt.month\n",
        "print(df_rank)\n",
        "print('******************************************************************************************')\n",
        "df_result['year'] = df_result['date'].dt.year\n",
        "df_result['month'] = df_result['date'].dt.month\n",
        "print(df_result)"
      ],
      "execution_count": 9,
      "outputs": [
        {
          "output_type": "stream",
          "text": [
            "       rank country_full country_abrv  ...  rank_date  year  month\n",
            "0         1      Germany          GER  ... 1993-08-08  1993      8\n",
            "1         2        Italy          ITA  ... 1993-08-08  1993      8\n",
            "2         3  Switzerland          SUI  ... 1993-08-08  1993      8\n",
            "3         4       Sweden          SWE  ... 1993-08-08  1993      8\n",
            "4         5    Argentina          ARG  ... 1993-08-08  1993      8\n",
            "...     ...          ...          ...  ...        ...   ...    ...\n",
            "57788   206     Anguilla          AIA  ... 2018-06-07  2018      6\n",
            "57789   206      Bahamas          BAH  ... 2018-06-07  2018      6\n",
            "57790   206      Eritrea          ERI  ... 2018-06-07  2018      6\n",
            "57791   206      Somalia          SOM  ... 2018-06-07  2018      6\n",
            "57792   206        Tonga          TGA  ... 2018-06-07  2018      6\n",
            "\n",
            "[57793 rows x 18 columns]\n",
            "******************************************************************************************\n",
            "            date         home_team        away_team  ...  neutral  year month\n",
            "0     1872-11-30          Scotland          England  ...    False  1872    11\n",
            "1     1873-03-08           England         Scotland  ...    False  1873     3\n",
            "2     1874-03-07          Scotland          England  ...    False  1874     3\n",
            "3     1875-03-06           England         Scotland  ...    False  1875     3\n",
            "4     1876-03-04          Scotland          England  ...    False  1876     3\n",
            "...          ...               ...              ...  ...      ...   ...   ...\n",
            "40834 2019-07-18    American Samoa           Tahiti  ...     True  2019     7\n",
            "40835 2019-07-18              Fiji  Solomon Islands  ...     True  2019     7\n",
            "40836 2019-07-19           Senegal          Algeria  ...     True  2019     7\n",
            "40837 2019-07-19        Tajikistan      North Korea  ...     True  2019     7\n",
            "40838 2019-07-20  Papua New Guinea             Fiji  ...     True  2019     7\n",
            "\n",
            "[40839 rows x 11 columns]\n"
          ],
          "name": "stdout"
        }
      ]
    },
    {
      "cell_type": "code",
      "metadata": {
        "colab": {
          "base_uri": "https://localhost:8080/"
        },
        "id": "gYPpUJzxREc9",
        "outputId": "82c8e7d5-c204-4f14-9242-3784f95831a1"
      },
      "source": [
        "#Checking for null values and there's none in the rank dataset\n",
        "df_rank.isnull().sum()"
      ],
      "execution_count": 10,
      "outputs": [
        {
          "output_type": "execute_result",
          "data": {
            "text/plain": [
              "rank                       0\n",
              "country_full               0\n",
              "country_abrv               0\n",
              "total_points               0\n",
              "previous_points            0\n",
              "rank_change                0\n",
              "cur_year_avg               0\n",
              "cur_year_avg_weighted      0\n",
              "last_year_avg              0\n",
              "last_year_avg_weighted     0\n",
              "two_year_ago_avg           0\n",
              "two_year_ago_weighted      0\n",
              "three_year_ago_avg         0\n",
              "three_year_ago_weighted    0\n",
              "confederation              0\n",
              "rank_date                  0\n",
              "year                       0\n",
              "month                      0\n",
              "dtype: int64"
            ]
          },
          "metadata": {
            "tags": []
          },
          "execution_count": 10
        }
      ]
    },
    {
      "cell_type": "code",
      "metadata": {
        "colab": {
          "base_uri": "https://localhost:8080/"
        },
        "id": "AK-U-ALoRL81",
        "outputId": "8ff88872-1a0d-4b26-c9bc-89bf6e10a421"
      },
      "source": [
        "#Checking for duplicated records in the rank dataset. There are 37 but we'll keep them as they may contain important information to be used in the analysis\n",
        "df_rank.duplicated().sum()"
      ],
      "execution_count": 11,
      "outputs": [
        {
          "output_type": "execute_result",
          "data": {
            "text/plain": [
              "37"
            ]
          },
          "metadata": {
            "tags": []
          },
          "execution_count": 11
        }
      ]
    },
    {
      "cell_type": "code",
      "metadata": {
        "colab": {
          "base_uri": "https://localhost:8080/"
        },
        "id": "qORj5uB3RzxV",
        "outputId": "2c4c2c2b-712c-41b4-c566-289f0487042d"
      },
      "source": [
        "#Checking for duplicated records in the result dataset and there's none\n",
        "df_result.duplicated().sum()"
      ],
      "execution_count": 12,
      "outputs": [
        {
          "output_type": "execute_result",
          "data": {
            "text/plain": [
              "0"
            ]
          },
          "metadata": {
            "tags": []
          },
          "execution_count": 12
        }
      ]
    },
    {
      "cell_type": "code",
      "metadata": {
        "colab": {
          "base_uri": "https://localhost:8080/"
        },
        "id": "qPblmjdnR4qc",
        "outputId": "174ad113-4199-4cde-de97-cb5961b78ac6"
      },
      "source": [
        "#There are no null records in the result dataset \n",
        "df_result.isnull().sum()"
      ],
      "execution_count": 13,
      "outputs": [
        {
          "output_type": "execute_result",
          "data": {
            "text/plain": [
              "date          0\n",
              "home_team     0\n",
              "away_team     0\n",
              "home_score    0\n",
              "away_score    0\n",
              "tournament    0\n",
              "city          0\n",
              "country       0\n",
              "neutral       0\n",
              "year          0\n",
              "month         0\n",
              "dtype: int64"
            ]
          },
          "metadata": {
            "tags": []
          },
          "execution_count": 13
        }
      ]
    },
    {
      "cell_type": "code",
      "metadata": {
        "colab": {
          "base_uri": "https://localhost:8080/"
        },
        "id": "YuhNOhwHSW-0",
        "outputId": "309a4a9c-f1b9-4a7b-b658-25c5ad5c4706"
      },
      "source": [
        "#Checking the columns in each dataframe\n",
        "#Ranking \n",
        "df_rank.columns"
      ],
      "execution_count": 14,
      "outputs": [
        {
          "output_type": "execute_result",
          "data": {
            "text/plain": [
              "Index(['rank', 'country_full', 'country_abrv', 'total_points',\n",
              "       'previous_points', 'rank_change', 'cur_year_avg',\n",
              "       'cur_year_avg_weighted', 'last_year_avg', 'last_year_avg_weighted',\n",
              "       'two_year_ago_avg', 'two_year_ago_weighted', 'three_year_ago_avg',\n",
              "       'three_year_ago_weighted', 'confederation', 'rank_date', 'year',\n",
              "       'month'],\n",
              "      dtype='object')"
            ]
          },
          "metadata": {
            "tags": []
          },
          "execution_count": 14
        }
      ]
    },
    {
      "cell_type": "code",
      "metadata": {
        "colab": {
          "base_uri": "https://localhost:8080/"
        },
        "id": "8lVbv-o7Se_Z",
        "outputId": "23c2a9e1-14c9-4c6e-c15d-99bb6854a8cd"
      },
      "source": [
        "#Result\n",
        "df_result.columns"
      ],
      "execution_count": 15,
      "outputs": [
        {
          "output_type": "execute_result",
          "data": {
            "text/plain": [
              "Index(['date', 'home_team', 'away_team', 'home_score', 'away_score',\n",
              "       'tournament', 'city', 'country', 'neutral', 'year', 'month'],\n",
              "      dtype='object')"
            ]
          },
          "metadata": {
            "tags": []
          },
          "execution_count": 15
        }
      ]
    },
    {
      "cell_type": "code",
      "metadata": {
        "colab": {
          "base_uri": "https://localhost:8080/",
          "height": 111
        },
        "id": "QDeJGDZ5SIll",
        "outputId": "4964741c-0cd0-4feb-b77a-93d78b5b2e29"
      },
      "source": [
        "#Dropping the Irrelevant columns\n",
        "#Ranking\n",
        "df_rank.drop(columns=['country_abrv', 'total_points',\n",
        "       'previous_points', 'rank_change', 'cur_year_avg',\n",
        "       'cur_year_avg_weighted', 'last_year_avg', 'last_year_avg_weighted',\n",
        "       'two_year_ago_avg', 'two_year_ago_weighted', 'three_year_ago_avg',\n",
        "       'three_year_ago_weighted', 'confederation'],inplace=True)\n",
        "df_rank.head(2)"
      ],
      "execution_count": 16,
      "outputs": [
        {
          "output_type": "execute_result",
          "data": {
            "text/html": [
              "<div>\n",
              "<style scoped>\n",
              "    .dataframe tbody tr th:only-of-type {\n",
              "        vertical-align: middle;\n",
              "    }\n",
              "\n",
              "    .dataframe tbody tr th {\n",
              "        vertical-align: top;\n",
              "    }\n",
              "\n",
              "    .dataframe thead th {\n",
              "        text-align: right;\n",
              "    }\n",
              "</style>\n",
              "<table border=\"1\" class=\"dataframe\">\n",
              "  <thead>\n",
              "    <tr style=\"text-align: right;\">\n",
              "      <th></th>\n",
              "      <th>rank</th>\n",
              "      <th>country_full</th>\n",
              "      <th>rank_date</th>\n",
              "      <th>year</th>\n",
              "      <th>month</th>\n",
              "    </tr>\n",
              "  </thead>\n",
              "  <tbody>\n",
              "    <tr>\n",
              "      <th>0</th>\n",
              "      <td>1</td>\n",
              "      <td>Germany</td>\n",
              "      <td>1993-08-08</td>\n",
              "      <td>1993</td>\n",
              "      <td>8</td>\n",
              "    </tr>\n",
              "    <tr>\n",
              "      <th>1</th>\n",
              "      <td>2</td>\n",
              "      <td>Italy</td>\n",
              "      <td>1993-08-08</td>\n",
              "      <td>1993</td>\n",
              "      <td>8</td>\n",
              "    </tr>\n",
              "  </tbody>\n",
              "</table>\n",
              "</div>"
            ],
            "text/plain": [
              "   rank country_full  rank_date  year  month\n",
              "0     1      Germany 1993-08-08  1993      8\n",
              "1     2        Italy 1993-08-08  1993      8"
            ]
          },
          "metadata": {
            "tags": []
          },
          "execution_count": 16
        }
      ]
    },
    {
      "cell_type": "code",
      "metadata": {
        "colab": {
          "base_uri": "https://localhost:8080/",
          "height": 111
        },
        "id": "fRd8a012TRDK",
        "outputId": "0465b048-df67-4e70-dde0-1ca492445a5b"
      },
      "source": [
        "#Result\n",
        "df_result.drop(columns=['city', 'neutral','country'], inplace=True)\n",
        "df_result.head(2)"
      ],
      "execution_count": 17,
      "outputs": [
        {
          "output_type": "execute_result",
          "data": {
            "text/html": [
              "<div>\n",
              "<style scoped>\n",
              "    .dataframe tbody tr th:only-of-type {\n",
              "        vertical-align: middle;\n",
              "    }\n",
              "\n",
              "    .dataframe tbody tr th {\n",
              "        vertical-align: top;\n",
              "    }\n",
              "\n",
              "    .dataframe thead th {\n",
              "        text-align: right;\n",
              "    }\n",
              "</style>\n",
              "<table border=\"1\" class=\"dataframe\">\n",
              "  <thead>\n",
              "    <tr style=\"text-align: right;\">\n",
              "      <th></th>\n",
              "      <th>date</th>\n",
              "      <th>home_team</th>\n",
              "      <th>away_team</th>\n",
              "      <th>home_score</th>\n",
              "      <th>away_score</th>\n",
              "      <th>tournament</th>\n",
              "      <th>year</th>\n",
              "      <th>month</th>\n",
              "    </tr>\n",
              "  </thead>\n",
              "  <tbody>\n",
              "    <tr>\n",
              "      <th>0</th>\n",
              "      <td>1872-11-30</td>\n",
              "      <td>Scotland</td>\n",
              "      <td>England</td>\n",
              "      <td>0</td>\n",
              "      <td>0</td>\n",
              "      <td>Friendly</td>\n",
              "      <td>1872</td>\n",
              "      <td>11</td>\n",
              "    </tr>\n",
              "    <tr>\n",
              "      <th>1</th>\n",
              "      <td>1873-03-08</td>\n",
              "      <td>England</td>\n",
              "      <td>Scotland</td>\n",
              "      <td>4</td>\n",
              "      <td>2</td>\n",
              "      <td>Friendly</td>\n",
              "      <td>1873</td>\n",
              "      <td>3</td>\n",
              "    </tr>\n",
              "  </tbody>\n",
              "</table>\n",
              "</div>"
            ],
            "text/plain": [
              "        date home_team away_team  ...  tournament  year month\n",
              "0 1872-11-30  Scotland   England  ...    Friendly  1872    11\n",
              "1 1873-03-08   England  Scotland  ...    Friendly  1873     3\n",
              "\n",
              "[2 rows x 8 columns]"
            ]
          },
          "metadata": {
            "tags": []
          },
          "execution_count": 17
        }
      ]
    },
    {
      "cell_type": "code",
      "metadata": {
        "colab": {
          "base_uri": "https://localhost:8080/",
          "height": 111
        },
        "id": "qvl5nkGVUBLn",
        "outputId": "4f6dedd1-e179-4c83-b23c-358192c2d3e5"
      },
      "source": [
        "#Renaming the columns\n",
        "#Ranking \n",
        "df_rank.rename(columns = {'country_full': 'home_team'}, inplace =True)\n",
        "df_rank.head(2)\n",
        "\n",
        "df_rank.rename(columns = {'rank_date': 'date'}, inplace =True)\n",
        "df_rank.head(2)"
      ],
      "execution_count": 18,
      "outputs": [
        {
          "output_type": "execute_result",
          "data": {
            "text/html": [
              "<div>\n",
              "<style scoped>\n",
              "    .dataframe tbody tr th:only-of-type {\n",
              "        vertical-align: middle;\n",
              "    }\n",
              "\n",
              "    .dataframe tbody tr th {\n",
              "        vertical-align: top;\n",
              "    }\n",
              "\n",
              "    .dataframe thead th {\n",
              "        text-align: right;\n",
              "    }\n",
              "</style>\n",
              "<table border=\"1\" class=\"dataframe\">\n",
              "  <thead>\n",
              "    <tr style=\"text-align: right;\">\n",
              "      <th></th>\n",
              "      <th>rank</th>\n",
              "      <th>home_team</th>\n",
              "      <th>date</th>\n",
              "      <th>year</th>\n",
              "      <th>month</th>\n",
              "    </tr>\n",
              "  </thead>\n",
              "  <tbody>\n",
              "    <tr>\n",
              "      <th>0</th>\n",
              "      <td>1</td>\n",
              "      <td>Germany</td>\n",
              "      <td>1993-08-08</td>\n",
              "      <td>1993</td>\n",
              "      <td>8</td>\n",
              "    </tr>\n",
              "    <tr>\n",
              "      <th>1</th>\n",
              "      <td>2</td>\n",
              "      <td>Italy</td>\n",
              "      <td>1993-08-08</td>\n",
              "      <td>1993</td>\n",
              "      <td>8</td>\n",
              "    </tr>\n",
              "  </tbody>\n",
              "</table>\n",
              "</div>"
            ],
            "text/plain": [
              "   rank home_team       date  year  month\n",
              "0     1   Germany 1993-08-08  1993      8\n",
              "1     2     Italy 1993-08-08  1993      8"
            ]
          },
          "metadata": {
            "tags": []
          },
          "execution_count": 18
        }
      ]
    },
    {
      "cell_type": "code",
      "metadata": {
        "colab": {
          "base_uri": "https://localhost:8080/"
        },
        "id": "yFXA6xQV1ja7",
        "outputId": "19fc58c9-234a-4768-def0-bd1942a03023"
      },
      "source": [
        "#Checking for uniques values in the date column in result dataset. It has values from 1872-2019\n",
        "df_result['date'].unique()"
      ],
      "execution_count": 19,
      "outputs": [
        {
          "output_type": "execute_result",
          "data": {
            "text/plain": [
              "array(['1872-11-30T00:00:00.000000000', '1873-03-08T00:00:00.000000000',\n",
              "       '1874-03-07T00:00:00.000000000', ...,\n",
              "       '2019-07-18T00:00:00.000000000', '2019-07-19T00:00:00.000000000',\n",
              "       '2019-07-20T00:00:00.000000000'], dtype='datetime64[ns]')"
            ]
          },
          "metadata": {
            "tags": []
          },
          "execution_count": 19
        }
      ]
    },
    {
      "cell_type": "code",
      "metadata": {
        "colab": {
          "base_uri": "https://localhost:8080/"
        },
        "id": "M0kC62u1199G",
        "outputId": "0a092440-0fd5-4073-c74c-5c2a178c2b40"
      },
      "source": [
        "#Checking for unique values in the date column in rank dataset. It ranges from 1993 - 2018\n",
        "df_rank['date'].unique()"
      ],
      "execution_count": 20,
      "outputs": [
        {
          "output_type": "execute_result",
          "data": {
            "text/plain": [
              "array(['1993-08-08T00:00:00.000000000', '1993-09-23T00:00:00.000000000',\n",
              "       '1993-10-22T00:00:00.000000000', '1993-11-19T00:00:00.000000000',\n",
              "       '1993-12-23T00:00:00.000000000', '1994-02-15T00:00:00.000000000',\n",
              "       '1994-03-15T00:00:00.000000000', '1994-04-19T00:00:00.000000000',\n",
              "       '1994-05-17T00:00:00.000000000', '1994-06-14T00:00:00.000000000',\n",
              "       '1994-07-21T00:00:00.000000000', '1994-09-13T00:00:00.000000000',\n",
              "       '1994-10-25T00:00:00.000000000', '1994-11-22T00:00:00.000000000',\n",
              "       '1994-12-20T00:00:00.000000000', '1995-02-20T00:00:00.000000000',\n",
              "       '1995-04-19T00:00:00.000000000', '1995-05-16T00:00:00.000000000',\n",
              "       '1995-06-13T00:00:00.000000000', '1995-07-25T00:00:00.000000000',\n",
              "       '1995-08-22T00:00:00.000000000', '1995-09-19T00:00:00.000000000',\n",
              "       '1995-10-17T00:00:00.000000000', '1995-11-21T00:00:00.000000000',\n",
              "       '1995-12-19T00:00:00.000000000', '1996-01-24T00:00:00.000000000',\n",
              "       '1996-02-21T00:00:00.000000000', '1996-04-24T00:00:00.000000000',\n",
              "       '1996-05-22T00:00:00.000000000', '1996-07-03T00:00:00.000000000',\n",
              "       '1996-08-28T00:00:00.000000000', '1996-09-25T00:00:00.000000000',\n",
              "       '1996-10-23T00:00:00.000000000', '1996-11-20T00:00:00.000000000',\n",
              "       '1996-12-18T00:00:00.000000000', '1997-02-27T00:00:00.000000000',\n",
              "       '1997-04-09T00:00:00.000000000', '1997-05-14T00:00:00.000000000',\n",
              "       '1997-06-18T00:00:00.000000000', '1997-07-16T00:00:00.000000000',\n",
              "       '1997-08-20T00:00:00.000000000', '1997-09-17T00:00:00.000000000',\n",
              "       '1997-10-17T00:00:00.000000000', '1997-11-19T00:00:00.000000000',\n",
              "       '1997-12-23T00:00:00.000000000', '1998-02-18T00:00:00.000000000',\n",
              "       '1998-03-18T00:00:00.000000000', '1998-04-22T00:00:00.000000000',\n",
              "       '1998-05-20T00:00:00.000000000', '1998-07-15T00:00:00.000000000',\n",
              "       '1998-08-19T00:00:00.000000000', '1998-09-16T00:00:00.000000000',\n",
              "       '1998-10-21T00:00:00.000000000', '1998-11-18T00:00:00.000000000',\n",
              "       '1998-12-23T00:00:00.000000000', '1999-01-27T00:00:00.000000000',\n",
              "       '1999-02-24T00:00:00.000000000', '1999-03-24T00:00:00.000000000',\n",
              "       '1999-04-21T00:00:00.000000000', '1999-05-19T00:00:00.000000000',\n",
              "       '1999-06-16T00:00:00.000000000', '1999-07-21T00:00:00.000000000',\n",
              "       '1999-08-18T00:00:00.000000000', '1999-09-15T00:00:00.000000000',\n",
              "       '1999-10-13T00:00:00.000000000', '1999-11-17T00:00:00.000000000',\n",
              "       '1999-12-22T00:00:00.000000000', '2000-01-19T00:00:00.000000000',\n",
              "       '2000-02-16T00:00:00.000000000', '2000-03-15T00:00:00.000000000',\n",
              "       '2000-04-12T00:00:00.000000000', '2000-05-10T00:00:00.000000000',\n",
              "       '2000-06-07T00:00:00.000000000', '2000-07-05T00:00:00.000000000',\n",
              "       '2000-08-09T00:00:00.000000000', '2000-09-06T00:00:00.000000000',\n",
              "       '2000-10-11T00:00:00.000000000', '2000-11-15T00:00:00.000000000',\n",
              "       '2000-12-20T00:00:00.000000000', '2001-01-17T00:00:00.000000000',\n",
              "       '2001-02-14T00:00:00.000000000', '2001-03-14T00:00:00.000000000',\n",
              "       '2001-04-11T00:00:00.000000000', '2001-05-16T00:00:00.000000000',\n",
              "       '2001-06-20T00:00:00.000000000', '2001-07-18T00:00:00.000000000',\n",
              "       '2001-08-22T00:00:00.000000000', '2001-09-19T00:00:00.000000000',\n",
              "       '2001-10-17T00:00:00.000000000', '2001-11-21T00:00:00.000000000',\n",
              "       '2001-12-19T00:00:00.000000000', '2002-01-16T00:00:00.000000000',\n",
              "       '2002-02-13T00:00:00.000000000', '2002-03-20T00:00:00.000000000',\n",
              "       '2002-04-17T00:00:00.000000000', '2002-05-15T00:00:00.000000000',\n",
              "       '2002-07-03T00:00:00.000000000', '2002-08-14T00:00:00.000000000',\n",
              "       '2002-09-18T00:00:00.000000000', '2002-10-23T00:00:00.000000000',\n",
              "       '2002-11-20T00:00:00.000000000', '2002-12-18T00:00:00.000000000',\n",
              "       '2003-01-15T00:00:00.000000000', '2003-02-19T00:00:00.000000000',\n",
              "       '2003-03-26T00:00:00.000000000', '2003-04-23T00:00:00.000000000',\n",
              "       '2003-05-21T00:00:00.000000000', '2003-06-25T00:00:00.000000000',\n",
              "       '2003-07-30T00:00:00.000000000', '2003-08-27T00:00:00.000000000',\n",
              "       '2003-09-24T00:00:00.000000000', '2003-10-22T00:00:00.000000000',\n",
              "       '2003-11-19T00:00:00.000000000', '2003-12-15T00:00:00.000000000',\n",
              "       '2004-01-14T00:00:00.000000000', '2004-02-18T00:00:00.000000000',\n",
              "       '2004-03-17T00:00:00.000000000', '2004-04-14T00:00:00.000000000',\n",
              "       '2004-05-12T00:00:00.000000000', '2004-06-09T00:00:00.000000000',\n",
              "       '2004-07-07T00:00:00.000000000', '2004-08-04T00:00:00.000000000',\n",
              "       '2004-09-01T00:00:00.000000000', '2004-10-06T00:00:00.000000000',\n",
              "       '2004-11-10T00:00:00.000000000', '2004-12-20T00:00:00.000000000',\n",
              "       '2005-01-19T00:00:00.000000000', '2005-02-16T00:00:00.000000000',\n",
              "       '2005-03-23T00:00:00.000000000', '2005-04-20T00:00:00.000000000',\n",
              "       '2005-05-18T00:00:00.000000000', '2005-06-15T00:00:00.000000000',\n",
              "       '2005-07-20T00:00:00.000000000', '2005-08-17T00:00:00.000000000',\n",
              "       '2005-09-12T00:00:00.000000000', '2005-10-17T00:00:00.000000000',\n",
              "       '2005-11-21T00:00:00.000000000', '2005-12-16T00:00:00.000000000',\n",
              "       '2006-01-18T00:00:00.000000000', '2006-02-15T00:00:00.000000000',\n",
              "       '2006-03-15T00:00:00.000000000', '2006-04-19T00:00:00.000000000',\n",
              "       '2006-05-17T00:00:00.000000000', '2006-07-12T00:00:00.000000000',\n",
              "       '2006-08-16T00:00:00.000000000', '2006-09-13T00:00:00.000000000',\n",
              "       '2006-10-18T00:00:00.000000000', '2006-11-22T00:00:00.000000000',\n",
              "       '2006-12-18T00:00:00.000000000', '2007-01-17T00:00:00.000000000',\n",
              "       '2007-02-14T00:00:00.000000000', '2007-03-14T00:00:00.000000000',\n",
              "       '2007-04-18T00:00:00.000000000', '2007-05-16T00:00:00.000000000',\n",
              "       '2007-06-13T00:00:00.000000000', '2007-07-18T00:00:00.000000000',\n",
              "       '2007-08-22T00:00:00.000000000', '2007-09-19T00:00:00.000000000',\n",
              "       '2007-10-24T00:00:00.000000000', '2007-11-23T00:00:00.000000000',\n",
              "       '2007-12-17T00:00:00.000000000', '2008-01-16T00:00:00.000000000',\n",
              "       '2008-02-13T00:00:00.000000000', '2008-03-12T00:00:00.000000000',\n",
              "       '2008-04-09T00:00:00.000000000', '2008-05-07T00:00:00.000000000',\n",
              "       '2008-06-04T00:00:00.000000000', '2008-07-02T00:00:00.000000000',\n",
              "       '2008-08-06T00:00:00.000000000', '2008-09-03T00:00:00.000000000',\n",
              "       '2008-10-08T00:00:00.000000000', '2008-11-12T00:00:00.000000000',\n",
              "       '2008-12-17T00:00:00.000000000', '2009-01-14T00:00:00.000000000',\n",
              "       '2009-02-11T00:00:00.000000000', '2009-03-11T00:00:00.000000000',\n",
              "       '2009-04-08T00:00:00.000000000', '2009-05-06T00:00:00.000000000',\n",
              "       '2009-06-03T00:00:00.000000000', '2009-07-01T00:00:00.000000000',\n",
              "       '2009-08-05T00:00:00.000000000', '2009-09-02T00:00:00.000000000',\n",
              "       '2009-10-16T00:00:00.000000000', '2009-11-20T00:00:00.000000000',\n",
              "       '2009-12-16T00:00:00.000000000', '2010-02-03T00:00:00.000000000',\n",
              "       '2010-03-03T00:00:00.000000000', '2010-03-31T00:00:00.000000000',\n",
              "       '2010-04-28T00:00:00.000000000', '2010-05-26T00:00:00.000000000',\n",
              "       '2010-07-14T00:00:00.000000000', '2010-08-11T00:00:00.000000000',\n",
              "       '2010-09-15T00:00:00.000000000', '2010-10-20T00:00:00.000000000',\n",
              "       '2010-11-17T00:00:00.000000000', '2010-12-15T00:00:00.000000000',\n",
              "       '2011-01-12T00:00:00.000000000', '2011-02-02T00:00:00.000000000',\n",
              "       '2011-03-09T00:00:00.000000000', '2011-04-13T00:00:00.000000000',\n",
              "       '2011-05-18T00:00:00.000000000', '2011-06-29T00:00:00.000000000',\n",
              "       '2011-07-27T00:00:00.000000000', '2011-08-24T00:00:00.000000000',\n",
              "       '2011-09-21T00:00:00.000000000', '2011-10-19T00:00:00.000000000',\n",
              "       '2011-11-23T00:00:00.000000000', '2011-12-21T00:00:00.000000000',\n",
              "       '2012-01-18T00:00:00.000000000', '2012-02-15T00:00:00.000000000',\n",
              "       '2012-03-07T00:00:00.000000000', '2012-04-11T00:00:00.000000000',\n",
              "       '2012-05-09T00:00:00.000000000', '2012-06-06T00:00:00.000000000',\n",
              "       '2012-07-04T00:00:00.000000000', '2012-08-08T00:00:00.000000000',\n",
              "       '2012-09-05T00:00:00.000000000', '2012-10-03T00:00:00.000000000',\n",
              "       '2012-11-07T00:00:00.000000000', '2012-12-19T00:00:00.000000000',\n",
              "       '2013-01-17T00:00:00.000000000', '2013-02-14T00:00:00.000000000',\n",
              "       '2013-03-14T00:00:00.000000000', '2013-04-11T00:00:00.000000000',\n",
              "       '2013-05-09T00:00:00.000000000', '2013-06-06T00:00:00.000000000',\n",
              "       '2013-07-04T00:00:00.000000000', '2013-08-08T00:00:00.000000000',\n",
              "       '2013-09-12T00:00:00.000000000', '2013-10-17T00:00:00.000000000',\n",
              "       '2013-11-28T00:00:00.000000000', '2013-12-19T00:00:00.000000000',\n",
              "       '2014-01-16T00:00:00.000000000', '2014-02-13T00:00:00.000000000',\n",
              "       '2014-03-13T00:00:00.000000000', '2014-04-10T00:00:00.000000000',\n",
              "       '2014-05-08T00:00:00.000000000', '2014-06-05T00:00:00.000000000',\n",
              "       '2014-07-17T00:00:00.000000000', '2014-08-14T00:00:00.000000000',\n",
              "       '2014-09-18T00:00:00.000000000', '2014-10-23T00:00:00.000000000',\n",
              "       '2014-11-27T00:00:00.000000000', '2014-12-18T00:00:00.000000000',\n",
              "       '2015-01-08T00:00:00.000000000', '2015-02-12T00:00:00.000000000',\n",
              "       '2015-03-12T00:00:00.000000000', '2015-04-09T00:00:00.000000000',\n",
              "       '2015-05-07T00:00:00.000000000', '2015-06-04T00:00:00.000000000',\n",
              "       '2015-07-09T00:00:00.000000000', '2015-08-06T00:00:00.000000000',\n",
              "       '2015-09-03T00:00:00.000000000', '2015-10-01T00:00:00.000000000',\n",
              "       '2015-11-05T00:00:00.000000000', '2015-12-03T00:00:00.000000000',\n",
              "       '2016-01-07T00:00:00.000000000', '2016-02-04T00:00:00.000000000',\n",
              "       '2016-03-03T00:00:00.000000000', '2016-04-07T00:00:00.000000000',\n",
              "       '2016-05-05T00:00:00.000000000', '2016-06-02T00:00:00.000000000',\n",
              "       '2016-07-14T00:00:00.000000000', '2016-08-11T00:00:00.000000000',\n",
              "       '2016-09-15T00:00:00.000000000', '2016-10-20T00:00:00.000000000',\n",
              "       '2016-11-24T00:00:00.000000000', '2016-12-22T00:00:00.000000000',\n",
              "       '2017-01-12T00:00:00.000000000', '2017-02-09T00:00:00.000000000',\n",
              "       '2017-03-09T00:00:00.000000000', '2017-04-06T00:00:00.000000000',\n",
              "       '2017-05-04T00:00:00.000000000', '2017-06-01T00:00:00.000000000',\n",
              "       '2017-07-06T00:00:00.000000000', '2017-08-10T00:00:00.000000000',\n",
              "       '2017-09-14T00:00:00.000000000', '2017-10-16T00:00:00.000000000',\n",
              "       '2017-11-23T00:00:00.000000000', '2017-12-21T00:00:00.000000000',\n",
              "       '2018-01-18T00:00:00.000000000', '2018-02-15T00:00:00.000000000',\n",
              "       '2018-03-15T00:00:00.000000000', '2018-04-12T00:00:00.000000000',\n",
              "       '2018-05-17T00:00:00.000000000', '2018-06-07T00:00:00.000000000'],\n",
              "      dtype='datetime64[ns]')"
            ]
          },
          "metadata": {
            "tags": []
          },
          "execution_count": 20
        }
      ]
    },
    {
      "cell_type": "code",
      "metadata": {
        "colab": {
          "base_uri": "https://localhost:8080/",
          "height": 204
        },
        "id": "FH9Ge4pP2QjG",
        "outputId": "ebc1403d-62f5-493d-86b2-c4395390a3d0"
      },
      "source": [
        "#We will now filter the result dataset, date column so it can have same range of date values with the rank dataset\n",
        "df2_result = df_result[(df_result[\"date\"] > '1993-01-01') &  (df_result[\"date\"] < '2018-06-07')]\n",
        "df2_result.head()"
      ],
      "execution_count": 21,
      "outputs": [
        {
          "output_type": "execute_result",
          "data": {
            "text/html": [
              "<div>\n",
              "<style scoped>\n",
              "    .dataframe tbody tr th:only-of-type {\n",
              "        vertical-align: middle;\n",
              "    }\n",
              "\n",
              "    .dataframe tbody tr th {\n",
              "        vertical-align: top;\n",
              "    }\n",
              "\n",
              "    .dataframe thead th {\n",
              "        text-align: right;\n",
              "    }\n",
              "</style>\n",
              "<table border=\"1\" class=\"dataframe\">\n",
              "  <thead>\n",
              "    <tr style=\"text-align: right;\">\n",
              "      <th></th>\n",
              "      <th>date</th>\n",
              "      <th>home_team</th>\n",
              "      <th>away_team</th>\n",
              "      <th>home_score</th>\n",
              "      <th>away_score</th>\n",
              "      <th>tournament</th>\n",
              "      <th>year</th>\n",
              "      <th>month</th>\n",
              "    </tr>\n",
              "  </thead>\n",
              "  <tbody>\n",
              "    <tr>\n",
              "      <th>17362</th>\n",
              "      <td>1993-01-02</td>\n",
              "      <td>Gabon</td>\n",
              "      <td>Burkina Faso</td>\n",
              "      <td>1</td>\n",
              "      <td>1</td>\n",
              "      <td>Friendly</td>\n",
              "      <td>1993</td>\n",
              "      <td>1</td>\n",
              "    </tr>\n",
              "    <tr>\n",
              "      <th>17363</th>\n",
              "      <td>1993-01-02</td>\n",
              "      <td>Kuwait</td>\n",
              "      <td>Lebanon</td>\n",
              "      <td>2</td>\n",
              "      <td>0</td>\n",
              "      <td>Friendly</td>\n",
              "      <td>1993</td>\n",
              "      <td>1</td>\n",
              "    </tr>\n",
              "    <tr>\n",
              "      <th>17364</th>\n",
              "      <td>1993-01-03</td>\n",
              "      <td>Burkina Faso</td>\n",
              "      <td>Mali</td>\n",
              "      <td>1</td>\n",
              "      <td>0</td>\n",
              "      <td>Friendly</td>\n",
              "      <td>1993</td>\n",
              "      <td>1</td>\n",
              "    </tr>\n",
              "    <tr>\n",
              "      <th>17365</th>\n",
              "      <td>1993-01-03</td>\n",
              "      <td>Gabon</td>\n",
              "      <td>Ghana</td>\n",
              "      <td>2</td>\n",
              "      <td>3</td>\n",
              "      <td>Friendly</td>\n",
              "      <td>1993</td>\n",
              "      <td>1</td>\n",
              "    </tr>\n",
              "    <tr>\n",
              "      <th>17366</th>\n",
              "      <td>1993-01-08</td>\n",
              "      <td>Uganda</td>\n",
              "      <td>Tanzania</td>\n",
              "      <td>3</td>\n",
              "      <td>1</td>\n",
              "      <td>Friendly</td>\n",
              "      <td>1993</td>\n",
              "      <td>1</td>\n",
              "    </tr>\n",
              "  </tbody>\n",
              "</table>\n",
              "</div>"
            ],
            "text/plain": [
              "            date     home_team     away_team  ...  tournament  year month\n",
              "17362 1993-01-02         Gabon  Burkina Faso  ...    Friendly  1993     1\n",
              "17363 1993-01-02        Kuwait       Lebanon  ...    Friendly  1993     1\n",
              "17364 1993-01-03  Burkina Faso          Mali  ...    Friendly  1993     1\n",
              "17365 1993-01-03         Gabon         Ghana  ...    Friendly  1993     1\n",
              "17366 1993-01-08        Uganda      Tanzania  ...    Friendly  1993     1\n",
              "\n",
              "[5 rows x 8 columns]"
            ]
          },
          "metadata": {
            "tags": []
          },
          "execution_count": 21
        }
      ]
    },
    {
      "cell_type": "code",
      "metadata": {
        "id": "FgcKfuK4R9EN",
        "colab": {
          "base_uri": "https://localhost:8080/",
          "height": 204
        },
        "outputId": "515861da-603d-455a-d736-505d6b759deb"
      },
      "source": [
        "#We will now merge the dataframes using inner in order to use the columns that are similar\n",
        "\n",
        "df_home = pd.merge(df_rank, df2_result, how='inner', on=['home_team','year','month','date'])\n",
        "df_home.head()"
      ],
      "execution_count": 22,
      "outputs": [
        {
          "output_type": "execute_result",
          "data": {
            "text/html": [
              "<div>\n",
              "<style scoped>\n",
              "    .dataframe tbody tr th:only-of-type {\n",
              "        vertical-align: middle;\n",
              "    }\n",
              "\n",
              "    .dataframe tbody tr th {\n",
              "        vertical-align: top;\n",
              "    }\n",
              "\n",
              "    .dataframe thead th {\n",
              "        text-align: right;\n",
              "    }\n",
              "</style>\n",
              "<table border=\"1\" class=\"dataframe\">\n",
              "  <thead>\n",
              "    <tr style=\"text-align: right;\">\n",
              "      <th></th>\n",
              "      <th>rank</th>\n",
              "      <th>home_team</th>\n",
              "      <th>date</th>\n",
              "      <th>year</th>\n",
              "      <th>month</th>\n",
              "      <th>away_team</th>\n",
              "      <th>home_score</th>\n",
              "      <th>away_score</th>\n",
              "      <th>tournament</th>\n",
              "    </tr>\n",
              "  </thead>\n",
              "  <tbody>\n",
              "    <tr>\n",
              "      <th>0</th>\n",
              "      <td>8</td>\n",
              "      <td>Brazil</td>\n",
              "      <td>1993-08-08</td>\n",
              "      <td>1993</td>\n",
              "      <td>8</td>\n",
              "      <td>Mexico</td>\n",
              "      <td>1</td>\n",
              "      <td>1</td>\n",
              "      <td>Friendly</td>\n",
              "    </tr>\n",
              "    <tr>\n",
              "      <th>1</th>\n",
              "      <td>35</td>\n",
              "      <td>Ecuador</td>\n",
              "      <td>1993-08-08</td>\n",
              "      <td>1993</td>\n",
              "      <td>8</td>\n",
              "      <td>Venezuela</td>\n",
              "      <td>5</td>\n",
              "      <td>0</td>\n",
              "      <td>FIFA World Cup qualification</td>\n",
              "    </tr>\n",
              "    <tr>\n",
              "      <th>2</th>\n",
              "      <td>50</td>\n",
              "      <td>Zimbabwe</td>\n",
              "      <td>1993-08-08</td>\n",
              "      <td>1993</td>\n",
              "      <td>8</td>\n",
              "      <td>Eswatini</td>\n",
              "      <td>2</td>\n",
              "      <td>0</td>\n",
              "      <td>Friendly</td>\n",
              "    </tr>\n",
              "    <tr>\n",
              "      <th>3</th>\n",
              "      <td>59</td>\n",
              "      <td>Bolivia</td>\n",
              "      <td>1993-08-08</td>\n",
              "      <td>1993</td>\n",
              "      <td>8</td>\n",
              "      <td>Uruguay</td>\n",
              "      <td>3</td>\n",
              "      <td>1</td>\n",
              "      <td>FIFA World Cup qualification</td>\n",
              "    </tr>\n",
              "    <tr>\n",
              "      <th>4</th>\n",
              "      <td>65</td>\n",
              "      <td>Guinea</td>\n",
              "      <td>1993-08-08</td>\n",
              "      <td>1993</td>\n",
              "      <td>8</td>\n",
              "      <td>Sierra Leone</td>\n",
              "      <td>1</td>\n",
              "      <td>0</td>\n",
              "      <td>Friendly</td>\n",
              "    </tr>\n",
              "  </tbody>\n",
              "</table>\n",
              "</div>"
            ],
            "text/plain": [
              "   rank home_team  ... away_score                    tournament\n",
              "0     8    Brazil  ...          1                      Friendly\n",
              "1    35   Ecuador  ...          0  FIFA World Cup qualification\n",
              "2    50  Zimbabwe  ...          0                      Friendly\n",
              "3    59   Bolivia  ...          1  FIFA World Cup qualification\n",
              "4    65    Guinea  ...          0                      Friendly\n",
              "\n",
              "[5 rows x 9 columns]"
            ]
          },
          "metadata": {
            "tags": []
          },
          "execution_count": 22
        }
      ]
    },
    {
      "cell_type": "code",
      "metadata": {
        "colab": {
          "base_uri": "https://localhost:8080/",
          "height": 204
        },
        "id": "VUFR7HAn6OXs",
        "outputId": "66b4de29-0c0a-4ec8-ce5e-6633c0e5ed4f"
      },
      "source": [
        "#Renaming the rank column to home rank since it's the home team rank\n",
        "df_home.rename(columns = {'rank': 'home_rank'}, inplace =True)\n",
        "df_home.head()"
      ],
      "execution_count": 23,
      "outputs": [
        {
          "output_type": "execute_result",
          "data": {
            "text/html": [
              "<div>\n",
              "<style scoped>\n",
              "    .dataframe tbody tr th:only-of-type {\n",
              "        vertical-align: middle;\n",
              "    }\n",
              "\n",
              "    .dataframe tbody tr th {\n",
              "        vertical-align: top;\n",
              "    }\n",
              "\n",
              "    .dataframe thead th {\n",
              "        text-align: right;\n",
              "    }\n",
              "</style>\n",
              "<table border=\"1\" class=\"dataframe\">\n",
              "  <thead>\n",
              "    <tr style=\"text-align: right;\">\n",
              "      <th></th>\n",
              "      <th>home_rank</th>\n",
              "      <th>home_team</th>\n",
              "      <th>date</th>\n",
              "      <th>year</th>\n",
              "      <th>month</th>\n",
              "      <th>away_team</th>\n",
              "      <th>home_score</th>\n",
              "      <th>away_score</th>\n",
              "      <th>tournament</th>\n",
              "    </tr>\n",
              "  </thead>\n",
              "  <tbody>\n",
              "    <tr>\n",
              "      <th>0</th>\n",
              "      <td>8</td>\n",
              "      <td>Brazil</td>\n",
              "      <td>1993-08-08</td>\n",
              "      <td>1993</td>\n",
              "      <td>8</td>\n",
              "      <td>Mexico</td>\n",
              "      <td>1</td>\n",
              "      <td>1</td>\n",
              "      <td>Friendly</td>\n",
              "    </tr>\n",
              "    <tr>\n",
              "      <th>1</th>\n",
              "      <td>35</td>\n",
              "      <td>Ecuador</td>\n",
              "      <td>1993-08-08</td>\n",
              "      <td>1993</td>\n",
              "      <td>8</td>\n",
              "      <td>Venezuela</td>\n",
              "      <td>5</td>\n",
              "      <td>0</td>\n",
              "      <td>FIFA World Cup qualification</td>\n",
              "    </tr>\n",
              "    <tr>\n",
              "      <th>2</th>\n",
              "      <td>50</td>\n",
              "      <td>Zimbabwe</td>\n",
              "      <td>1993-08-08</td>\n",
              "      <td>1993</td>\n",
              "      <td>8</td>\n",
              "      <td>Eswatini</td>\n",
              "      <td>2</td>\n",
              "      <td>0</td>\n",
              "      <td>Friendly</td>\n",
              "    </tr>\n",
              "    <tr>\n",
              "      <th>3</th>\n",
              "      <td>59</td>\n",
              "      <td>Bolivia</td>\n",
              "      <td>1993-08-08</td>\n",
              "      <td>1993</td>\n",
              "      <td>8</td>\n",
              "      <td>Uruguay</td>\n",
              "      <td>3</td>\n",
              "      <td>1</td>\n",
              "      <td>FIFA World Cup qualification</td>\n",
              "    </tr>\n",
              "    <tr>\n",
              "      <th>4</th>\n",
              "      <td>65</td>\n",
              "      <td>Guinea</td>\n",
              "      <td>1993-08-08</td>\n",
              "      <td>1993</td>\n",
              "      <td>8</td>\n",
              "      <td>Sierra Leone</td>\n",
              "      <td>1</td>\n",
              "      <td>0</td>\n",
              "      <td>Friendly</td>\n",
              "    </tr>\n",
              "  </tbody>\n",
              "</table>\n",
              "</div>"
            ],
            "text/plain": [
              "   home_rank home_team  ... away_score                    tournament\n",
              "0          8    Brazil  ...          1                      Friendly\n",
              "1         35   Ecuador  ...          0  FIFA World Cup qualification\n",
              "2         50  Zimbabwe  ...          0                      Friendly\n",
              "3         59   Bolivia  ...          1  FIFA World Cup qualification\n",
              "4         65    Guinea  ...          0                      Friendly\n",
              "\n",
              "[5 rows x 9 columns]"
            ]
          },
          "metadata": {
            "tags": []
          },
          "execution_count": 23
        }
      ]
    },
    {
      "cell_type": "code",
      "metadata": {
        "colab": {
          "base_uri": "https://localhost:8080/"
        },
        "id": "8fc0f6NN62W1",
        "outputId": "8b9bf8ec-498e-4824-ff41-cfe6720734c8"
      },
      "source": [
        "#We have no null values so far\n",
        "df_home.isnull().sum()"
      ],
      "execution_count": 24,
      "outputs": [
        {
          "output_type": "execute_result",
          "data": {
            "text/plain": [
              "home_rank     0\n",
              "home_team     0\n",
              "date          0\n",
              "year          0\n",
              "month         0\n",
              "away_team     0\n",
              "home_score    0\n",
              "away_score    0\n",
              "tournament    0\n",
              "dtype: int64"
            ]
          },
          "metadata": {
            "tags": []
          },
          "execution_count": 24
        }
      ]
    },
    {
      "cell_type": "code",
      "metadata": {
        "colab": {
          "base_uri": "https://localhost:8080/"
        },
        "id": "xVG43v817clo",
        "outputId": "906f1ef5-e17f-4562-ecaf-976f9eee6971"
      },
      "source": [
        "df_rank.columns"
      ],
      "execution_count": 25,
      "outputs": [
        {
          "output_type": "execute_result",
          "data": {
            "text/plain": [
              "Index(['rank', 'home_team', 'date', 'year', 'month'], dtype='object')"
            ]
          },
          "metadata": {
            "tags": []
          },
          "execution_count": 25
        }
      ]
    },
    {
      "cell_type": "code",
      "metadata": {
        "colab": {
          "base_uri": "https://localhost:8080/"
        },
        "id": "EI7rMnzv8Bh7",
        "outputId": "e14ae9e6-1722-431c-f5e9-4c132a068757"
      },
      "source": [
        "df2_result.columns"
      ],
      "execution_count": 26,
      "outputs": [
        {
          "output_type": "execute_result",
          "data": {
            "text/plain": [
              "Index(['date', 'home_team', 'away_team', 'home_score', 'away_score',\n",
              "       'tournament', 'year', 'month'],\n",
              "      dtype='object')"
            ]
          },
          "metadata": {
            "tags": []
          },
          "execution_count": 26
        }
      ]
    },
    {
      "cell_type": "code",
      "metadata": {
        "colab": {
          "base_uri": "https://localhost:8080/",
          "height": 204
        },
        "id": "t73dEQXl6pUb",
        "outputId": "5aae7cc1-bec4-4527-9bc4-2622298dfa13"
      },
      "source": [
        "#We'll now merge to create away team rank since it's necessary for our analysis\n",
        "#Here, we're renaming the home team to away team because matches are played both at home and away \n",
        "df_rank.rename(columns={'home_team':'away_team'}, inplace=True)\n",
        "df_rank.head()"
      ],
      "execution_count": 27,
      "outputs": [
        {
          "output_type": "execute_result",
          "data": {
            "text/html": [
              "<div>\n",
              "<style scoped>\n",
              "    .dataframe tbody tr th:only-of-type {\n",
              "        vertical-align: middle;\n",
              "    }\n",
              "\n",
              "    .dataframe tbody tr th {\n",
              "        vertical-align: top;\n",
              "    }\n",
              "\n",
              "    .dataframe thead th {\n",
              "        text-align: right;\n",
              "    }\n",
              "</style>\n",
              "<table border=\"1\" class=\"dataframe\">\n",
              "  <thead>\n",
              "    <tr style=\"text-align: right;\">\n",
              "      <th></th>\n",
              "      <th>rank</th>\n",
              "      <th>away_team</th>\n",
              "      <th>date</th>\n",
              "      <th>year</th>\n",
              "      <th>month</th>\n",
              "    </tr>\n",
              "  </thead>\n",
              "  <tbody>\n",
              "    <tr>\n",
              "      <th>0</th>\n",
              "      <td>1</td>\n",
              "      <td>Germany</td>\n",
              "      <td>1993-08-08</td>\n",
              "      <td>1993</td>\n",
              "      <td>8</td>\n",
              "    </tr>\n",
              "    <tr>\n",
              "      <th>1</th>\n",
              "      <td>2</td>\n",
              "      <td>Italy</td>\n",
              "      <td>1993-08-08</td>\n",
              "      <td>1993</td>\n",
              "      <td>8</td>\n",
              "    </tr>\n",
              "    <tr>\n",
              "      <th>2</th>\n",
              "      <td>3</td>\n",
              "      <td>Switzerland</td>\n",
              "      <td>1993-08-08</td>\n",
              "      <td>1993</td>\n",
              "      <td>8</td>\n",
              "    </tr>\n",
              "    <tr>\n",
              "      <th>3</th>\n",
              "      <td>4</td>\n",
              "      <td>Sweden</td>\n",
              "      <td>1993-08-08</td>\n",
              "      <td>1993</td>\n",
              "      <td>8</td>\n",
              "    </tr>\n",
              "    <tr>\n",
              "      <th>4</th>\n",
              "      <td>5</td>\n",
              "      <td>Argentina</td>\n",
              "      <td>1993-08-08</td>\n",
              "      <td>1993</td>\n",
              "      <td>8</td>\n",
              "    </tr>\n",
              "  </tbody>\n",
              "</table>\n",
              "</div>"
            ],
            "text/plain": [
              "   rank    away_team       date  year  month\n",
              "0     1      Germany 1993-08-08  1993      8\n",
              "1     2        Italy 1993-08-08  1993      8\n",
              "2     3  Switzerland 1993-08-08  1993      8\n",
              "3     4       Sweden 1993-08-08  1993      8\n",
              "4     5    Argentina 1993-08-08  1993      8"
            ]
          },
          "metadata": {
            "tags": []
          },
          "execution_count": 27
        }
      ]
    },
    {
      "cell_type": "code",
      "metadata": {
        "colab": {
          "base_uri": "https://localhost:8080/",
          "height": 204
        },
        "id": "QenZqyd28veX",
        "outputId": "3236a0fd-c5c3-422e-ac16-a64cf0f0e771"
      },
      "source": [
        "#Merging the away dataset on inner based on similar columns\n",
        "df_away = pd.merge(df_rank, df2_result, how='inner', on=['away_team','year','month','date'])\n",
        "df_away.head()"
      ],
      "execution_count": 28,
      "outputs": [
        {
          "output_type": "execute_result",
          "data": {
            "text/html": [
              "<div>\n",
              "<style scoped>\n",
              "    .dataframe tbody tr th:only-of-type {\n",
              "        vertical-align: middle;\n",
              "    }\n",
              "\n",
              "    .dataframe tbody tr th {\n",
              "        vertical-align: top;\n",
              "    }\n",
              "\n",
              "    .dataframe thead th {\n",
              "        text-align: right;\n",
              "    }\n",
              "</style>\n",
              "<table border=\"1\" class=\"dataframe\">\n",
              "  <thead>\n",
              "    <tr style=\"text-align: right;\">\n",
              "      <th></th>\n",
              "      <th>rank</th>\n",
              "      <th>away_team</th>\n",
              "      <th>date</th>\n",
              "      <th>year</th>\n",
              "      <th>month</th>\n",
              "      <th>home_team</th>\n",
              "      <th>home_score</th>\n",
              "      <th>away_score</th>\n",
              "      <th>tournament</th>\n",
              "    </tr>\n",
              "  </thead>\n",
              "  <tbody>\n",
              "    <tr>\n",
              "      <th>0</th>\n",
              "      <td>5</td>\n",
              "      <td>Argentina</td>\n",
              "      <td>1993-08-08</td>\n",
              "      <td>1993</td>\n",
              "      <td>8</td>\n",
              "      <td>Paraguay</td>\n",
              "      <td>1</td>\n",
              "      <td>3</td>\n",
              "      <td>FIFA World Cup qualification</td>\n",
              "    </tr>\n",
              "    <tr>\n",
              "      <th>1</th>\n",
              "      <td>14</td>\n",
              "      <td>Mexico</td>\n",
              "      <td>1993-08-08</td>\n",
              "      <td>1993</td>\n",
              "      <td>8</td>\n",
              "      <td>Brazil</td>\n",
              "      <td>1</td>\n",
              "      <td>1</td>\n",
              "      <td>Friendly</td>\n",
              "    </tr>\n",
              "    <tr>\n",
              "      <th>2</th>\n",
              "      <td>19</td>\n",
              "      <td>Colombia</td>\n",
              "      <td>1993-08-08</td>\n",
              "      <td>1993</td>\n",
              "      <td>8</td>\n",
              "      <td>Peru</td>\n",
              "      <td>0</td>\n",
              "      <td>1</td>\n",
              "      <td>FIFA World Cup qualification</td>\n",
              "    </tr>\n",
              "    <tr>\n",
              "      <th>3</th>\n",
              "      <td>22</td>\n",
              "      <td>Uruguay</td>\n",
              "      <td>1993-08-08</td>\n",
              "      <td>1993</td>\n",
              "      <td>8</td>\n",
              "      <td>Bolivia</td>\n",
              "      <td>3</td>\n",
              "      <td>1</td>\n",
              "      <td>FIFA World Cup qualification</td>\n",
              "    </tr>\n",
              "    <tr>\n",
              "      <th>4</th>\n",
              "      <td>86</td>\n",
              "      <td>Sierra Leone</td>\n",
              "      <td>1993-08-08</td>\n",
              "      <td>1993</td>\n",
              "      <td>8</td>\n",
              "      <td>Guinea</td>\n",
              "      <td>1</td>\n",
              "      <td>0</td>\n",
              "      <td>Friendly</td>\n",
              "    </tr>\n",
              "  </tbody>\n",
              "</table>\n",
              "</div>"
            ],
            "text/plain": [
              "   rank     away_team  ... away_score                    tournament\n",
              "0     5     Argentina  ...          3  FIFA World Cup qualification\n",
              "1    14        Mexico  ...          1                      Friendly\n",
              "2    19      Colombia  ...          1  FIFA World Cup qualification\n",
              "3    22       Uruguay  ...          1  FIFA World Cup qualification\n",
              "4    86  Sierra Leone  ...          0                      Friendly\n",
              "\n",
              "[5 rows x 9 columns]"
            ]
          },
          "metadata": {
            "tags": []
          },
          "execution_count": 28
        }
      ]
    },
    {
      "cell_type": "code",
      "metadata": {
        "colab": {
          "base_uri": "https://localhost:8080/",
          "height": 204
        },
        "id": "iPGfKGd-9YTr",
        "outputId": "bd7259b7-55ba-4956-d93a-932afdec688e"
      },
      "source": [
        "#Renaming the rank column to away_rank\n",
        "df_away.rename(columns={'rank':'away_rank'}, inplace=True)\n",
        "df_away.head()"
      ],
      "execution_count": 29,
      "outputs": [
        {
          "output_type": "execute_result",
          "data": {
            "text/html": [
              "<div>\n",
              "<style scoped>\n",
              "    .dataframe tbody tr th:only-of-type {\n",
              "        vertical-align: middle;\n",
              "    }\n",
              "\n",
              "    .dataframe tbody tr th {\n",
              "        vertical-align: top;\n",
              "    }\n",
              "\n",
              "    .dataframe thead th {\n",
              "        text-align: right;\n",
              "    }\n",
              "</style>\n",
              "<table border=\"1\" class=\"dataframe\">\n",
              "  <thead>\n",
              "    <tr style=\"text-align: right;\">\n",
              "      <th></th>\n",
              "      <th>away_rank</th>\n",
              "      <th>away_team</th>\n",
              "      <th>date</th>\n",
              "      <th>year</th>\n",
              "      <th>month</th>\n",
              "      <th>home_team</th>\n",
              "      <th>home_score</th>\n",
              "      <th>away_score</th>\n",
              "      <th>tournament</th>\n",
              "    </tr>\n",
              "  </thead>\n",
              "  <tbody>\n",
              "    <tr>\n",
              "      <th>0</th>\n",
              "      <td>5</td>\n",
              "      <td>Argentina</td>\n",
              "      <td>1993-08-08</td>\n",
              "      <td>1993</td>\n",
              "      <td>8</td>\n",
              "      <td>Paraguay</td>\n",
              "      <td>1</td>\n",
              "      <td>3</td>\n",
              "      <td>FIFA World Cup qualification</td>\n",
              "    </tr>\n",
              "    <tr>\n",
              "      <th>1</th>\n",
              "      <td>14</td>\n",
              "      <td>Mexico</td>\n",
              "      <td>1993-08-08</td>\n",
              "      <td>1993</td>\n",
              "      <td>8</td>\n",
              "      <td>Brazil</td>\n",
              "      <td>1</td>\n",
              "      <td>1</td>\n",
              "      <td>Friendly</td>\n",
              "    </tr>\n",
              "    <tr>\n",
              "      <th>2</th>\n",
              "      <td>19</td>\n",
              "      <td>Colombia</td>\n",
              "      <td>1993-08-08</td>\n",
              "      <td>1993</td>\n",
              "      <td>8</td>\n",
              "      <td>Peru</td>\n",
              "      <td>0</td>\n",
              "      <td>1</td>\n",
              "      <td>FIFA World Cup qualification</td>\n",
              "    </tr>\n",
              "    <tr>\n",
              "      <th>3</th>\n",
              "      <td>22</td>\n",
              "      <td>Uruguay</td>\n",
              "      <td>1993-08-08</td>\n",
              "      <td>1993</td>\n",
              "      <td>8</td>\n",
              "      <td>Bolivia</td>\n",
              "      <td>3</td>\n",
              "      <td>1</td>\n",
              "      <td>FIFA World Cup qualification</td>\n",
              "    </tr>\n",
              "    <tr>\n",
              "      <th>4</th>\n",
              "      <td>86</td>\n",
              "      <td>Sierra Leone</td>\n",
              "      <td>1993-08-08</td>\n",
              "      <td>1993</td>\n",
              "      <td>8</td>\n",
              "      <td>Guinea</td>\n",
              "      <td>1</td>\n",
              "      <td>0</td>\n",
              "      <td>Friendly</td>\n",
              "    </tr>\n",
              "  </tbody>\n",
              "</table>\n",
              "</div>"
            ],
            "text/plain": [
              "   away_rank     away_team  ... away_score                    tournament\n",
              "0          5     Argentina  ...          3  FIFA World Cup qualification\n",
              "1         14        Mexico  ...          1                      Friendly\n",
              "2         19      Colombia  ...          1  FIFA World Cup qualification\n",
              "3         22       Uruguay  ...          1  FIFA World Cup qualification\n",
              "4         86  Sierra Leone  ...          0                      Friendly\n",
              "\n",
              "[5 rows x 9 columns]"
            ]
          },
          "metadata": {
            "tags": []
          },
          "execution_count": 29
        }
      ]
    },
    {
      "cell_type": "code",
      "metadata": {
        "colab": {
          "base_uri": "https://localhost:8080/"
        },
        "id": "Pum6NqaT9jpb",
        "outputId": "da5b26ec-3482-4bc4-b534-9fb597b3fa6e"
      },
      "source": [
        "#There are no nulls in the away dataframe\n",
        "df_away.isnull().sum()"
      ],
      "execution_count": 30,
      "outputs": [
        {
          "output_type": "execute_result",
          "data": {
            "text/plain": [
              "away_rank     0\n",
              "away_team     0\n",
              "date          0\n",
              "year          0\n",
              "month         0\n",
              "home_team     0\n",
              "home_score    0\n",
              "away_score    0\n",
              "tournament    0\n",
              "dtype: int64"
            ]
          },
          "metadata": {
            "tags": []
          },
          "execution_count": 30
        }
      ]
    },
    {
      "cell_type": "code",
      "metadata": {
        "colab": {
          "base_uri": "https://localhost:8080/",
          "height": 360
        },
        "id": "KC2bia849-UM",
        "outputId": "b04030ce-6da8-4668-b740-d03a6911b2f8"
      },
      "source": [
        "#Merging to get the final dataset for analysis\n",
        "df_final = pd.merge(df_home, df_away, how='inner', on=['date','year','month'\t,'home_score','away_score','tournament'])\n",
        "df_final.head()"
      ],
      "execution_count": 31,
      "outputs": [
        {
          "output_type": "execute_result",
          "data": {
            "text/html": [
              "<div>\n",
              "<style scoped>\n",
              "    .dataframe tbody tr th:only-of-type {\n",
              "        vertical-align: middle;\n",
              "    }\n",
              "\n",
              "    .dataframe tbody tr th {\n",
              "        vertical-align: top;\n",
              "    }\n",
              "\n",
              "    .dataframe thead th {\n",
              "        text-align: right;\n",
              "    }\n",
              "</style>\n",
              "<table border=\"1\" class=\"dataframe\">\n",
              "  <thead>\n",
              "    <tr style=\"text-align: right;\">\n",
              "      <th></th>\n",
              "      <th>home_rank</th>\n",
              "      <th>home_team_x</th>\n",
              "      <th>date</th>\n",
              "      <th>year</th>\n",
              "      <th>month</th>\n",
              "      <th>away_team_x</th>\n",
              "      <th>home_score</th>\n",
              "      <th>away_score</th>\n",
              "      <th>tournament</th>\n",
              "      <th>away_rank</th>\n",
              "      <th>away_team_y</th>\n",
              "      <th>home_team_y</th>\n",
              "    </tr>\n",
              "  </thead>\n",
              "  <tbody>\n",
              "    <tr>\n",
              "      <th>0</th>\n",
              "      <td>8</td>\n",
              "      <td>Brazil</td>\n",
              "      <td>1993-08-08</td>\n",
              "      <td>1993</td>\n",
              "      <td>8</td>\n",
              "      <td>Mexico</td>\n",
              "      <td>1</td>\n",
              "      <td>1</td>\n",
              "      <td>Friendly</td>\n",
              "      <td>14</td>\n",
              "      <td>Mexico</td>\n",
              "      <td>Brazil</td>\n",
              "    </tr>\n",
              "    <tr>\n",
              "      <th>1</th>\n",
              "      <td>35</td>\n",
              "      <td>Ecuador</td>\n",
              "      <td>1993-08-08</td>\n",
              "      <td>1993</td>\n",
              "      <td>8</td>\n",
              "      <td>Venezuela</td>\n",
              "      <td>5</td>\n",
              "      <td>0</td>\n",
              "      <td>FIFA World Cup qualification</td>\n",
              "      <td>94</td>\n",
              "      <td>Venezuela</td>\n",
              "      <td>Ecuador</td>\n",
              "    </tr>\n",
              "    <tr>\n",
              "      <th>2</th>\n",
              "      <td>59</td>\n",
              "      <td>Bolivia</td>\n",
              "      <td>1993-08-08</td>\n",
              "      <td>1993</td>\n",
              "      <td>8</td>\n",
              "      <td>Uruguay</td>\n",
              "      <td>3</td>\n",
              "      <td>1</td>\n",
              "      <td>FIFA World Cup qualification</td>\n",
              "      <td>22</td>\n",
              "      <td>Uruguay</td>\n",
              "      <td>Bolivia</td>\n",
              "    </tr>\n",
              "    <tr>\n",
              "      <th>3</th>\n",
              "      <td>65</td>\n",
              "      <td>Guinea</td>\n",
              "      <td>1993-08-08</td>\n",
              "      <td>1993</td>\n",
              "      <td>8</td>\n",
              "      <td>Sierra Leone</td>\n",
              "      <td>1</td>\n",
              "      <td>0</td>\n",
              "      <td>Friendly</td>\n",
              "      <td>86</td>\n",
              "      <td>Sierra Leone</td>\n",
              "      <td>Guinea</td>\n",
              "    </tr>\n",
              "    <tr>\n",
              "      <th>4</th>\n",
              "      <td>67</td>\n",
              "      <td>Paraguay</td>\n",
              "      <td>1993-08-08</td>\n",
              "      <td>1993</td>\n",
              "      <td>8</td>\n",
              "      <td>Argentina</td>\n",
              "      <td>1</td>\n",
              "      <td>3</td>\n",
              "      <td>FIFA World Cup qualification</td>\n",
              "      <td>5</td>\n",
              "      <td>Argentina</td>\n",
              "      <td>Paraguay</td>\n",
              "    </tr>\n",
              "  </tbody>\n",
              "</table>\n",
              "</div>"
            ],
            "text/plain": [
              "   home_rank home_team_x       date  ...  away_rank   away_team_y home_team_y\n",
              "0          8      Brazil 1993-08-08  ...         14        Mexico      Brazil\n",
              "1         35     Ecuador 1993-08-08  ...         94     Venezuela     Ecuador\n",
              "2         59     Bolivia 1993-08-08  ...         22       Uruguay     Bolivia\n",
              "3         65      Guinea 1993-08-08  ...         86  Sierra Leone      Guinea\n",
              "4         67    Paraguay 1993-08-08  ...          5     Argentina    Paraguay\n",
              "\n",
              "[5 rows x 12 columns]"
            ]
          },
          "metadata": {
            "tags": []
          },
          "execution_count": 31
        }
      ]
    },
    {
      "cell_type": "code",
      "metadata": {
        "colab": {
          "base_uri": "https://localhost:8080/",
          "height": 111
        },
        "id": "BNVX9Oa9_gyZ",
        "outputId": "0b0b982e-5779-42b7-e124-e97bcbb1e1ba"
      },
      "source": [
        "#Dropping the duplicate columns\n",
        "df_final.drop(columns= ['home_team_y','away_team_y',], inplace=True)\n",
        "df_final.head(2)"
      ],
      "execution_count": 32,
      "outputs": [
        {
          "output_type": "execute_result",
          "data": {
            "text/html": [
              "<div>\n",
              "<style scoped>\n",
              "    .dataframe tbody tr th:only-of-type {\n",
              "        vertical-align: middle;\n",
              "    }\n",
              "\n",
              "    .dataframe tbody tr th {\n",
              "        vertical-align: top;\n",
              "    }\n",
              "\n",
              "    .dataframe thead th {\n",
              "        text-align: right;\n",
              "    }\n",
              "</style>\n",
              "<table border=\"1\" class=\"dataframe\">\n",
              "  <thead>\n",
              "    <tr style=\"text-align: right;\">\n",
              "      <th></th>\n",
              "      <th>home_rank</th>\n",
              "      <th>home_team_x</th>\n",
              "      <th>date</th>\n",
              "      <th>year</th>\n",
              "      <th>month</th>\n",
              "      <th>away_team_x</th>\n",
              "      <th>home_score</th>\n",
              "      <th>away_score</th>\n",
              "      <th>tournament</th>\n",
              "      <th>away_rank</th>\n",
              "    </tr>\n",
              "  </thead>\n",
              "  <tbody>\n",
              "    <tr>\n",
              "      <th>0</th>\n",
              "      <td>8</td>\n",
              "      <td>Brazil</td>\n",
              "      <td>1993-08-08</td>\n",
              "      <td>1993</td>\n",
              "      <td>8</td>\n",
              "      <td>Mexico</td>\n",
              "      <td>1</td>\n",
              "      <td>1</td>\n",
              "      <td>Friendly</td>\n",
              "      <td>14</td>\n",
              "    </tr>\n",
              "    <tr>\n",
              "      <th>1</th>\n",
              "      <td>35</td>\n",
              "      <td>Ecuador</td>\n",
              "      <td>1993-08-08</td>\n",
              "      <td>1993</td>\n",
              "      <td>8</td>\n",
              "      <td>Venezuela</td>\n",
              "      <td>5</td>\n",
              "      <td>0</td>\n",
              "      <td>FIFA World Cup qualification</td>\n",
              "      <td>94</td>\n",
              "    </tr>\n",
              "  </tbody>\n",
              "</table>\n",
              "</div>"
            ],
            "text/plain": [
              "   home_rank home_team_x  ...                    tournament  away_rank\n",
              "0          8      Brazil  ...                      Friendly         14\n",
              "1         35     Ecuador  ...  FIFA World Cup qualification         94\n",
              "\n",
              "[2 rows x 10 columns]"
            ]
          },
          "metadata": {
            "tags": []
          },
          "execution_count": 32
        }
      ]
    },
    {
      "cell_type": "code",
      "metadata": {
        "colab": {
          "base_uri": "https://localhost:8080/",
          "height": 204
        },
        "id": "dmZcPYTVANHL",
        "outputId": "89d34702-f6ae-41be-94f9-2b202da3b712"
      },
      "source": [
        "#Renaming our columns\n",
        "df_final.rename(columns={'home_team_x':'home_team','away_team_x':'away_team'}, inplace=True)\n",
        "df_final.head()"
      ],
      "execution_count": 33,
      "outputs": [
        {
          "output_type": "execute_result",
          "data": {
            "text/html": [
              "<div>\n",
              "<style scoped>\n",
              "    .dataframe tbody tr th:only-of-type {\n",
              "        vertical-align: middle;\n",
              "    }\n",
              "\n",
              "    .dataframe tbody tr th {\n",
              "        vertical-align: top;\n",
              "    }\n",
              "\n",
              "    .dataframe thead th {\n",
              "        text-align: right;\n",
              "    }\n",
              "</style>\n",
              "<table border=\"1\" class=\"dataframe\">\n",
              "  <thead>\n",
              "    <tr style=\"text-align: right;\">\n",
              "      <th></th>\n",
              "      <th>home_rank</th>\n",
              "      <th>home_team</th>\n",
              "      <th>date</th>\n",
              "      <th>year</th>\n",
              "      <th>month</th>\n",
              "      <th>away_team</th>\n",
              "      <th>home_score</th>\n",
              "      <th>away_score</th>\n",
              "      <th>tournament</th>\n",
              "      <th>away_rank</th>\n",
              "    </tr>\n",
              "  </thead>\n",
              "  <tbody>\n",
              "    <tr>\n",
              "      <th>0</th>\n",
              "      <td>8</td>\n",
              "      <td>Brazil</td>\n",
              "      <td>1993-08-08</td>\n",
              "      <td>1993</td>\n",
              "      <td>8</td>\n",
              "      <td>Mexico</td>\n",
              "      <td>1</td>\n",
              "      <td>1</td>\n",
              "      <td>Friendly</td>\n",
              "      <td>14</td>\n",
              "    </tr>\n",
              "    <tr>\n",
              "      <th>1</th>\n",
              "      <td>35</td>\n",
              "      <td>Ecuador</td>\n",
              "      <td>1993-08-08</td>\n",
              "      <td>1993</td>\n",
              "      <td>8</td>\n",
              "      <td>Venezuela</td>\n",
              "      <td>5</td>\n",
              "      <td>0</td>\n",
              "      <td>FIFA World Cup qualification</td>\n",
              "      <td>94</td>\n",
              "    </tr>\n",
              "    <tr>\n",
              "      <th>2</th>\n",
              "      <td>59</td>\n",
              "      <td>Bolivia</td>\n",
              "      <td>1993-08-08</td>\n",
              "      <td>1993</td>\n",
              "      <td>8</td>\n",
              "      <td>Uruguay</td>\n",
              "      <td>3</td>\n",
              "      <td>1</td>\n",
              "      <td>FIFA World Cup qualification</td>\n",
              "      <td>22</td>\n",
              "    </tr>\n",
              "    <tr>\n",
              "      <th>3</th>\n",
              "      <td>65</td>\n",
              "      <td>Guinea</td>\n",
              "      <td>1993-08-08</td>\n",
              "      <td>1993</td>\n",
              "      <td>8</td>\n",
              "      <td>Sierra Leone</td>\n",
              "      <td>1</td>\n",
              "      <td>0</td>\n",
              "      <td>Friendly</td>\n",
              "      <td>86</td>\n",
              "    </tr>\n",
              "    <tr>\n",
              "      <th>4</th>\n",
              "      <td>67</td>\n",
              "      <td>Paraguay</td>\n",
              "      <td>1993-08-08</td>\n",
              "      <td>1993</td>\n",
              "      <td>8</td>\n",
              "      <td>Argentina</td>\n",
              "      <td>1</td>\n",
              "      <td>3</td>\n",
              "      <td>FIFA World Cup qualification</td>\n",
              "      <td>5</td>\n",
              "    </tr>\n",
              "  </tbody>\n",
              "</table>\n",
              "</div>"
            ],
            "text/plain": [
              "   home_rank home_team  ...                    tournament  away_rank\n",
              "0          8    Brazil  ...                      Friendly         14\n",
              "1         35   Ecuador  ...  FIFA World Cup qualification         94\n",
              "2         59   Bolivia  ...  FIFA World Cup qualification         22\n",
              "3         65    Guinea  ...                      Friendly         86\n",
              "4         67  Paraguay  ...  FIFA World Cup qualification          5\n",
              "\n",
              "[5 rows x 10 columns]"
            ]
          },
          "metadata": {
            "tags": []
          },
          "execution_count": 33
        }
      ]
    },
    {
      "cell_type": "code",
      "metadata": {
        "colab": {
          "base_uri": "https://localhost:8080/"
        },
        "id": "ZmMtvMCvBlRB",
        "outputId": "1ef71a17-58cc-44e4-84ce-5818acc15486"
      },
      "source": [
        "#So far, we have no null values\n",
        "df_final.isnull().sum()"
      ],
      "execution_count": 34,
      "outputs": [
        {
          "output_type": "execute_result",
          "data": {
            "text/plain": [
              "home_rank     0\n",
              "home_team     0\n",
              "date          0\n",
              "year          0\n",
              "month         0\n",
              "away_team     0\n",
              "home_score    0\n",
              "away_score    0\n",
              "tournament    0\n",
              "away_rank     0\n",
              "dtype: int64"
            ]
          },
          "metadata": {
            "tags": []
          },
          "execution_count": 34
        }
      ]
    },
    {
      "cell_type": "code",
      "metadata": {
        "colab": {
          "base_uri": "https://localhost:8080/"
        },
        "id": "P0hWWAftByjh",
        "outputId": "ed5d3ab4-3696-47b9-f0c5-7f0bd206cf32"
      },
      "source": [
        "df_final.shape"
      ],
      "execution_count": 35,
      "outputs": [
        {
          "output_type": "execute_result",
          "data": {
            "text/plain": [
              "(1862, 10)"
            ]
          },
          "metadata": {
            "tags": []
          },
          "execution_count": 35
        }
      ]
    },
    {
      "cell_type": "markdown",
      "metadata": {
        "id": "ZoHGEXMJ7yux"
      },
      "source": [
        "#EXPLORATORY DATA ANALYSIS"
      ]
    },
    {
      "cell_type": "markdown",
      "metadata": {
        "id": "S7NRCq_g8Dp3"
      },
      "source": [
        "##Univariate Analysis"
      ]
    },
    {
      "cell_type": "code",
      "metadata": {
        "id": "Y0u9bptc8qB9",
        "colab": {
          "base_uri": "https://localhost:8080/",
          "height": 1000
        },
        "outputId": "042a2831-bd03-431d-83d3-d77313216ffe"
      },
      "source": [
        "#checking for outliers\n",
        "col_names = ['home_score','away_score','year'\t,'month']\n",
        "\n",
        "fig, ax = plt.subplots(len(col_names), figsize= (8,40))\n",
        "\n",
        "for i, col_val in enumerate(col_names):\n",
        "  sns.boxplot(y=df_final[col_val], ax= ax[i])\n",
        "  ax[i].set_title('Box plot - {}'.format(col_val), fontsize= 10)\n",
        "  ax[i].set_xlabel(col_val, fontsize= 8)\n",
        "plt.show()"
      ],
      "execution_count": 36,
      "outputs": [
        {
          "output_type": "display_data",
          "data": {
            "image/png": "[encoded data removed]",
            "text/plain": [
              "<Figure size 576x2880 with 4 Axes>"
            ]
          },
          "metadata": {
            "tags": [],
            "needs_background": "light"
          }
        }
      ]
    },
    {
      "cell_type": "markdown",
      "metadata": {
        "id": "pLiJENj9Cfil"
      },
      "source": [
        "There are outliers in the home score and away score columns but we will keep them as they are a crucial part of our analysis. The outliers could be from matches where scores went as far as 12-2 which happens in football"
      ]
    },
    {
      "cell_type": "code",
      "metadata": {
        "colab": {
          "base_uri": "https://localhost:8080/",
          "height": 297
        },
        "id": "Jjzd862yCsSQ",
        "outputId": "5ba19586-7ba1-4c64-a478-8047b4b49d5f"
      },
      "source": [
        "#The summary statistics are as follows\n",
        "df_final.describe()"
      ],
      "execution_count": 37,
      "outputs": [
        {
          "output_type": "execute_result",
          "data": {
            "text/html": [
              "<div>\n",
              "<style scoped>\n",
              "    .dataframe tbody tr th:only-of-type {\n",
              "        vertical-align: middle;\n",
              "    }\n",
              "\n",
              "    .dataframe tbody tr th {\n",
              "        vertical-align: top;\n",
              "    }\n",
              "\n",
              "    .dataframe thead th {\n",
              "        text-align: right;\n",
              "    }\n",
              "</style>\n",
              "<table border=\"1\" class=\"dataframe\">\n",
              "  <thead>\n",
              "    <tr style=\"text-align: right;\">\n",
              "      <th></th>\n",
              "      <th>home_rank</th>\n",
              "      <th>year</th>\n",
              "      <th>month</th>\n",
              "      <th>home_score</th>\n",
              "      <th>away_score</th>\n",
              "      <th>away_rank</th>\n",
              "    </tr>\n",
              "  </thead>\n",
              "  <tbody>\n",
              "    <tr>\n",
              "      <th>count</th>\n",
              "      <td>1862.000000</td>\n",
              "      <td>1862.000000</td>\n",
              "      <td>1862.000000</td>\n",
              "      <td>1862.000000</td>\n",
              "      <td>1862.000000</td>\n",
              "      <td>1862.000000</td>\n",
              "    </tr>\n",
              "    <tr>\n",
              "      <th>mean</th>\n",
              "      <td>61.635875</td>\n",
              "      <td>2005.650376</td>\n",
              "      <td>6.649839</td>\n",
              "      <td>1.335124</td>\n",
              "      <td>0.851235</td>\n",
              "      <td>63.639635</td>\n",
              "    </tr>\n",
              "    <tr>\n",
              "      <th>std</th>\n",
              "      <td>44.824951</td>\n",
              "      <td>4.867033</td>\n",
              "      <td>3.246765</td>\n",
              "      <td>1.484088</td>\n",
              "      <td>0.967997</td>\n",
              "      <td>47.410456</td>\n",
              "    </tr>\n",
              "    <tr>\n",
              "      <th>min</th>\n",
              "      <td>1.000000</td>\n",
              "      <td>1993.000000</td>\n",
              "      <td>1.000000</td>\n",
              "      <td>0.000000</td>\n",
              "      <td>0.000000</td>\n",
              "      <td>1.000000</td>\n",
              "    </tr>\n",
              "    <tr>\n",
              "      <th>25%</th>\n",
              "      <td>25.000000</td>\n",
              "      <td>2002.000000</td>\n",
              "      <td>3.000000</td>\n",
              "      <td>0.000000</td>\n",
              "      <td>0.000000</td>\n",
              "      <td>25.000000</td>\n",
              "    </tr>\n",
              "    <tr>\n",
              "      <th>50%</th>\n",
              "      <td>53.000000</td>\n",
              "      <td>2007.000000</td>\n",
              "      <td>8.000000</td>\n",
              "      <td>1.000000</td>\n",
              "      <td>1.000000</td>\n",
              "      <td>54.500000</td>\n",
              "    </tr>\n",
              "    <tr>\n",
              "      <th>75%</th>\n",
              "      <td>86.000000</td>\n",
              "      <td>2010.000000</td>\n",
              "      <td>8.000000</td>\n",
              "      <td>2.000000</td>\n",
              "      <td>1.000000</td>\n",
              "      <td>94.000000</td>\n",
              "    </tr>\n",
              "    <tr>\n",
              "      <th>max</th>\n",
              "      <td>206.000000</td>\n",
              "      <td>2018.000000</td>\n",
              "      <td>12.000000</td>\n",
              "      <td>31.000000</td>\n",
              "      <td>9.000000</td>\n",
              "      <td>209.000000</td>\n",
              "    </tr>\n",
              "  </tbody>\n",
              "</table>\n",
              "</div>"
            ],
            "text/plain": [
              "         home_rank         year  ...   away_score    away_rank\n",
              "count  1862.000000  1862.000000  ...  1862.000000  1862.000000\n",
              "mean     61.635875  2005.650376  ...     0.851235    63.639635\n",
              "std      44.824951     4.867033  ...     0.967997    47.410456\n",
              "min       1.000000  1993.000000  ...     0.000000     1.000000\n",
              "25%      25.000000  2002.000000  ...     0.000000    25.000000\n",
              "50%      53.000000  2007.000000  ...     1.000000    54.500000\n",
              "75%      86.000000  2010.000000  ...     1.000000    94.000000\n",
              "max     206.000000  2018.000000  ...     9.000000   209.000000\n",
              "\n",
              "[8 rows x 6 columns]"
            ]
          },
          "metadata": {
            "tags": []
          },
          "execution_count": 37
        }
      ]
    },
    {
      "cell_type": "code",
      "metadata": {
        "colab": {
          "base_uri": "https://localhost:8080/",
          "height": 432
        },
        "id": "5RHKMuE3DSk0",
        "outputId": "035ed465-1251-4256-8cec-37241862ac0a"
      },
      "source": [
        "df_final['tournament'].value_counts().head(10).sort_values().plot.bar()\n",
        "plt.show()"
      ],
      "execution_count": 38,
      "outputs": [
        {
          "output_type": "display_data",
          "data": {
            "image/png": "[encoded data removed]",
            "text/plain": [
              "<Figure size 432x288 with 1 Axes>"
            ]
          },
          "metadata": {
            "tags": [],
            "needs_background": "light"
          }
        }
      ]
    },
    {
      "cell_type": "markdown",
      "metadata": {
        "id": "0NSM3RMmD1Eo"
      },
      "source": [
        "From the above, the most popular matches are the friendlies followed by WorldCup qualifications and Euro qualification."
      ]
    },
    {
      "cell_type": "markdown",
      "metadata": {
        "id": "Vaw4o-81G5n6"
      },
      "source": [
        "##Bivariate Analysis"
      ]
    },
    {
      "cell_type": "code",
      "metadata": {
        "colab": {
          "base_uri": "https://localhost:8080/",
          "height": 547
        },
        "id": "B3RHpceFHPK3",
        "outputId": "4ce1045b-46a7-4f01-995a-c208ab9c3e72"
      },
      "source": [
        "#Pearson's heatmap to check correlation between the variables\n",
        "corr = df_final.corr() \n",
        "plt.figure(figsize = (20,10))\n",
        "sns.heatmap(corr, xticklabels=corr.columns, yticklabels=corr.columns, annot=True)\n",
        "plt.show()"
      ],
      "execution_count": 39,
      "outputs": [
        {
          "output_type": "display_data",
          "data": {
            "image/png": "[encoded data removed]",
            "text/plain": [
              "<Figure size 1440x720 with 2 Axes>"
            ]
          },
          "metadata": {
            "tags": [],
            "needs_background": "light"
          }
        }
      ]
    },
    {
      "cell_type": "code",
      "metadata": {
        "colab": {
          "base_uri": "https://localhost:8080/",
          "height": 960
        },
        "id": "sUC4w4dcDwJ9",
        "outputId": "7e1bfe46-36f1-4125-e6ca-68acd4443903"
      },
      "source": [
        "sns.pairplot(df_final)\n",
        "plt.show()"
      ],
      "execution_count": 40,
      "outputs": [
        {
          "output_type": "display_data",
          "data": {
            "image/png": "[encoded data removed]",
            "text/plain": [
              "<Figure size 1080x1080 with 42 Axes>"
            ]
          },
          "metadata": {
            "tags": [],
            "needs_background": "light"
          }
        }
      ]
    },
    {
      "cell_type": "markdown",
      "metadata": {
        "id": "u1o-1jeY3F9D"
      },
      "source": [
        "#MODELING"
      ]
    },
    {
      "cell_type": "markdown",
      "metadata": {
        "id": "Rj4RzKWCIJ6X"
      },
      "source": [
        "##Polynomial Regression"
      ]
    },
    {
      "cell_type": "markdown",
      "metadata": {
        "id": "BrfIJRV1hgzo"
      },
      "source": [
        "Our first model will predict how many goals the home team scores\n",
        "\n",
        "Our dependent variable will be home scores which will be the y variable and our independent variable will be the home rank, away rank and year"
      ]
    },
    {
      "cell_type": "code",
      "metadata": {
        "id": "flWl1wvnIUxO"
      },
      "source": [
        "#importing the necessary libraries for our model\n",
        "from sklearn.preprocessing import PolynomialFeatures\n",
        "\n",
        "from sklearn.model_selection import train_test_split\n",
        "\n",
        "from sklearn.linear_model import LinearRegression"
      ],
      "execution_count": 41,
      "outputs": []
    },
    {
      "cell_type": "code",
      "metadata": {
        "colab": {
          "base_uri": "https://localhost:8080/",
          "height": 419
        },
        "id": "GzCQjiQUpxfw",
        "outputId": "a249195e-1d9d-4474-96cd-cf1451b72f16"
      },
      "source": [
        "home_goals = df_final[['away_rank','home_rank','year']]\n",
        "home_goals"
      ],
      "execution_count": 42,
      "outputs": [
        {
          "output_type": "execute_result",
          "data": {
            "text/html": [
              "<div>\n",
              "<style scoped>\n",
              "    .dataframe tbody tr th:only-of-type {\n",
              "        vertical-align: middle;\n",
              "    }\n",
              "\n",
              "    .dataframe tbody tr th {\n",
              "        vertical-align: top;\n",
              "    }\n",
              "\n",
              "    .dataframe thead th {\n",
              "        text-align: right;\n",
              "    }\n",
              "</style>\n",
              "<table border=\"1\" class=\"dataframe\">\n",
              "  <thead>\n",
              "    <tr style=\"text-align: right;\">\n",
              "      <th></th>\n",
              "      <th>away_rank</th>\n",
              "      <th>home_rank</th>\n",
              "      <th>year</th>\n",
              "    </tr>\n",
              "  </thead>\n",
              "  <tbody>\n",
              "    <tr>\n",
              "      <th>0</th>\n",
              "      <td>14</td>\n",
              "      <td>8</td>\n",
              "      <td>1993</td>\n",
              "    </tr>\n",
              "    <tr>\n",
              "      <th>1</th>\n",
              "      <td>94</td>\n",
              "      <td>35</td>\n",
              "      <td>1993</td>\n",
              "    </tr>\n",
              "    <tr>\n",
              "      <th>2</th>\n",
              "      <td>22</td>\n",
              "      <td>59</td>\n",
              "      <td>1993</td>\n",
              "    </tr>\n",
              "    <tr>\n",
              "      <th>3</th>\n",
              "      <td>86</td>\n",
              "      <td>65</td>\n",
              "      <td>1993</td>\n",
              "    </tr>\n",
              "    <tr>\n",
              "      <th>4</th>\n",
              "      <td>5</td>\n",
              "      <td>67</td>\n",
              "      <td>1993</td>\n",
              "    </tr>\n",
              "    <tr>\n",
              "      <th>...</th>\n",
              "      <td>...</td>\n",
              "      <td>...</td>\n",
              "      <td>...</td>\n",
              "    </tr>\n",
              "    <tr>\n",
              "      <th>1857</th>\n",
              "      <td>109</td>\n",
              "      <td>120</td>\n",
              "      <td>2017</td>\n",
              "    </tr>\n",
              "    <tr>\n",
              "      <th>1858</th>\n",
              "      <td>26</td>\n",
              "      <td>17</td>\n",
              "      <td>2017</td>\n",
              "    </tr>\n",
              "    <tr>\n",
              "      <th>1859</th>\n",
              "      <td>112</td>\n",
              "      <td>38</td>\n",
              "      <td>2017</td>\n",
              "    </tr>\n",
              "    <tr>\n",
              "      <th>1860</th>\n",
              "      <td>181</td>\n",
              "      <td>163</td>\n",
              "      <td>2017</td>\n",
              "    </tr>\n",
              "    <tr>\n",
              "      <th>1861</th>\n",
              "      <td>111</td>\n",
              "      <td>73</td>\n",
              "      <td>2018</td>\n",
              "    </tr>\n",
              "  </tbody>\n",
              "</table>\n",
              "<p>1862 rows × 3 columns</p>\n",
              "</div>"
            ],
            "text/plain": [
              "      away_rank  home_rank  year\n",
              "0            14          8  1993\n",
              "1            94         35  1993\n",
              "2            22         59  1993\n",
              "3            86         65  1993\n",
              "4             5         67  1993\n",
              "...         ...        ...   ...\n",
              "1857        109        120  2017\n",
              "1858         26         17  2017\n",
              "1859        112         38  2017\n",
              "1860        181        163  2017\n",
              "1861        111         73  2018\n",
              "\n",
              "[1862 rows x 3 columns]"
            ]
          },
          "metadata": {
            "tags": []
          },
          "execution_count": 42
        }
      ]
    },
    {
      "cell_type": "code",
      "metadata": {
        "colab": {
          "base_uri": "https://localhost:8080/",
          "height": 142
        },
        "id": "rp0FpGUIEcwK",
        "outputId": "a401b470-1fb2-4e0f-f411-7b209554eba9"
      },
      "source": [
        "#Checking for multicollinearity in the independent variables that could influence the number of home goals\n",
        "#There's a positive correlation between the three variables and that means they could influence the scoring of a goal by the home team.\n",
        "home_goals.corr()"
      ],
      "execution_count": 81,
      "outputs": [
        {
          "output_type": "execute_result",
          "data": {
            "text/html": [
              "<div>\n",
              "<style scoped>\n",
              "    .dataframe tbody tr th:only-of-type {\n",
              "        vertical-align: middle;\n",
              "    }\n",
              "\n",
              "    .dataframe tbody tr th {\n",
              "        vertical-align: top;\n",
              "    }\n",
              "\n",
              "    .dataframe thead th {\n",
              "        text-align: right;\n",
              "    }\n",
              "</style>\n",
              "<table border=\"1\" class=\"dataframe\">\n",
              "  <thead>\n",
              "    <tr style=\"text-align: right;\">\n",
              "      <th></th>\n",
              "      <th>away_rank</th>\n",
              "      <th>home_rank</th>\n",
              "      <th>year</th>\n",
              "    </tr>\n",
              "  </thead>\n",
              "  <tbody>\n",
              "    <tr>\n",
              "      <th>away_rank</th>\n",
              "      <td>1.000000</td>\n",
              "      <td>0.315018</td>\n",
              "      <td>0.207375</td>\n",
              "    </tr>\n",
              "    <tr>\n",
              "      <th>home_rank</th>\n",
              "      <td>0.315018</td>\n",
              "      <td>1.000000</td>\n",
              "      <td>0.193109</td>\n",
              "    </tr>\n",
              "    <tr>\n",
              "      <th>year</th>\n",
              "      <td>0.207375</td>\n",
              "      <td>0.193109</td>\n",
              "      <td>1.000000</td>\n",
              "    </tr>\n",
              "  </tbody>\n",
              "</table>\n",
              "</div>"
            ],
            "text/plain": [
              "           away_rank  home_rank      year\n",
              "away_rank   1.000000   0.315018  0.207375\n",
              "home_rank   0.315018   1.000000  0.193109\n",
              "year        0.207375   0.193109  1.000000"
            ]
          },
          "metadata": {
            "tags": []
          },
          "execution_count": 81
        }
      ]
    },
    {
      "cell_type": "code",
      "metadata": {
        "colab": {
          "base_uri": "https://localhost:8080/"
        },
        "id": "3RSi-XGrM_Wv",
        "outputId": "19dc4f63-8620-45d7-a32b-169f341ada4c"
      },
      "source": [
        "#Defining the independent and dependent variables\n",
        "X = home_goals.values\n",
        "y = df_final.iloc[:,6].values\n",
        "print(X)\n"
      ],
      "execution_count": 44,
      "outputs": [
        {
          "output_type": "stream",
          "text": [
            "[[  14    8 1993]\n",
            " [  94   35 1993]\n",
            " [  22   59 1993]\n",
            " ...\n",
            " [ 112   38 2017]\n",
            " [ 181  163 2017]\n",
            " [ 111   73 2018]]\n"
          ],
          "name": "stdout"
        }
      ]
    },
    {
      "cell_type": "code",
      "metadata": {
        "id": "Ejuio0W9JAyB"
      },
      "source": [
        "#Splitting the dataset into train and test sets\n",
        "X_train, Y_train, X_test, Y_test = train_test_split(X,y, test_size = 0.2, random_state=0)\n"
      ],
      "execution_count": 45,
      "outputs": []
    },
    {
      "cell_type": "code",
      "metadata": {
        "id": "1mYOdWxpQfsh"
      },
      "source": [
        "#Fit polynomial Regression to the dataset\n",
        "poly_reg = PolynomialFeatures(degree = 2) \n",
        "X_poly = poly_reg.fit_transform(X)"
      ],
      "execution_count": 46,
      "outputs": []
    },
    {
      "cell_type": "code",
      "metadata": {
        "colab": {
          "base_uri": "https://localhost:8080/"
        },
        "id": "8N1Jnfg0QqPT",
        "outputId": "72b6fe0c-7ff1-4318-d543-7cccfa79f2d5"
      },
      "source": [
        "#Fitting the ploynomial regresion to the dataset\n",
        "pol_reg = LinearRegression()\n",
        "pol_reg.fit(X_poly, y)"
      ],
      "execution_count": 47,
      "outputs": [
        {
          "output_type": "execute_result",
          "data": {
            "text/plain": [
              "LinearRegression(copy_X=True, fit_intercept=True, n_jobs=None, normalize=False)"
            ]
          },
          "metadata": {
            "tags": []
          },
          "execution_count": 47
        }
      ]
    },
    {
      "cell_type": "code",
      "metadata": {
        "colab": {
          "base_uri": "https://localhost:8080/"
        },
        "id": "IerU6N0eqctA",
        "outputId": "c5c1151b-657b-4a87-e698-fd9bfbc5ea66"
      },
      "source": [
        "#With 2 degrees of freedom\n",
        "poly_reg = PolynomialFeatures(degree = 2) \n",
        "X_poly= poly_reg.fit_transform(X)\n",
        "\n",
        "pol_reg = LinearRegression()\n",
        "pol_reg.fit(X_poly, y)"
      ],
      "execution_count": 48,
      "outputs": [
        {
          "output_type": "execute_result",
          "data": {
            "text/plain": [
              "LinearRegression(copy_X=True, fit_intercept=True, n_jobs=None, normalize=False)"
            ]
          },
          "metadata": {
            "tags": []
          },
          "execution_count": 48
        }
      ]
    },
    {
      "cell_type": "code",
      "metadata": {
        "colab": {
          "base_uri": "https://localhost:8080/"
        },
        "id": "eH0pUVZaqoeK",
        "outputId": "d817972e-2ae9-41ab-beac-75af62a1a6f8"
      },
      "source": [
        "#Predicting the home score\n",
        "y_pred= pol_reg.predict(X_poly)\n",
        "y_pred"
      ],
      "execution_count": 49,
      "outputs": [
        {
          "output_type": "execute_result",
          "data": {
            "text/plain": [
              "array([1.17071547, 2.52546103, 0.98431554, ..., 0.92888061, 1.66348505,\n",
              "       0.914914  ])"
            ]
          },
          "metadata": {
            "tags": []
          },
          "execution_count": 49
        }
      ]
    },
    {
      "cell_type": "code",
      "metadata": {
        "colab": {
          "base_uri": "https://localhost:8080/"
        },
        "id": "RX1cTx6MqwOx",
        "outputId": "3abbb8b8-7465-46c2-8855-76b445dd9afa"
      },
      "source": [
        "#Finding RMSE AND R2 to see if the model fits\n",
        "from sklearn import metrics\n",
        "from sklearn.metrics import mean_squared_error, r2_score\n",
        "rmse = np.sqrt(mean_squared_error(y, y_pred))\n",
        "r2 = r2_score(y, y_pred)\n",
        "print(rmse)\n",
        "print(r2)"
      ],
      "execution_count": 50,
      "outputs": [
        {
          "output_type": "stream",
          "text": [
            "1.3727070682547857\n",
            "0.14400761142748653\n"
          ],
          "name": "stdout"
        }
      ]
    },
    {
      "cell_type": "markdown",
      "metadata": {
        "id": "IsrI4-sFZTga"
      },
      "source": [
        "From the above our R2(coefficient of determination is scaled between 0 and 1) is 11% of the variance. Hence this is not a good fit. A good model should be in the range of 0.7-1 where 1 is a perfect fit."
      ]
    },
    {
      "cell_type": "code",
      "metadata": {
        "colab": {
          "base_uri": "https://localhost:8080/"
        },
        "id": "tF1Fk5QUZ734",
        "outputId": "96fa8c15-585d-4028-fc45-7ecc2c8ec37e"
      },
      "source": [
        "#We'll now check with 3 degrees of freedom\n",
        "poly_reg_3 = PolynomialFeatures(degree = 3) \n",
        "X_poly_3 = poly_reg_3.fit_transform(X)\n",
        "\n",
        "pol_reg_3 = LinearRegression()\n",
        "pol_reg_3.fit(X_poly_3, y)"
      ],
      "execution_count": 51,
      "outputs": [
        {
          "output_type": "execute_result",
          "data": {
            "text/plain": [
              "LinearRegression(copy_X=True, fit_intercept=True, n_jobs=None, normalize=False)"
            ]
          },
          "metadata": {
            "tags": []
          },
          "execution_count": 51
        }
      ]
    },
    {
      "cell_type": "code",
      "metadata": {
        "colab": {
          "base_uri": "https://localhost:8080/"
        },
        "id": "Gj8_VrcDaJNY",
        "outputId": "7fa27208-3ebc-4b60-bf11-1b9b0037a2a8"
      },
      "source": [
        "y_pred_3 = pol_reg_3.predict(X_poly_3)\n",
        "y_pred_3"
      ],
      "execution_count": 52,
      "outputs": [
        {
          "output_type": "execute_result",
          "data": {
            "text/plain": [
              "array([0.86651125, 2.43883327, 0.4544883 , ..., 1.91487473, 1.81270447,\n",
              "       2.00933186])"
            ]
          },
          "metadata": {
            "tags": []
          },
          "execution_count": 52
        }
      ]
    },
    {
      "cell_type": "code",
      "metadata": {
        "colab": {
          "base_uri": "https://localhost:8080/"
        },
        "id": "Coyp3vHFb-LR",
        "outputId": "2973d66b-2da3-4c52-d623-b3ee641c5da1"
      },
      "source": [
        "rmse = np.sqrt(mean_squared_error(y, y_pred_3))\n",
        "r2 = r2_score(y, y_pred_3)\n",
        "print(rmse)\n",
        "print(r2)"
      ],
      "execution_count": 53,
      "outputs": [
        {
          "output_type": "stream",
          "text": [
            "1.3321743922170823\n",
            "0.1938120074627987\n"
          ],
          "name": "stdout"
        }
      ]
    },
    {
      "cell_type": "code",
      "metadata": {
        "colab": {
          "base_uri": "https://localhost:8080/"
        },
        "id": "sTlnxOppAGrH",
        "outputId": "d1e59b89-825a-4750-eeaf-61cc1524e48b"
      },
      "source": [
        "#We'll now check with 4 degrees of freedom\n",
        "poly_reg_4 = PolynomialFeatures(degree = 4) \n",
        "X_poly_4 = poly_reg_4.fit_transform(X)\n",
        "\n",
        "pol_reg_4 = LinearRegression()\n",
        "pol_reg_4.fit(X_poly_4, y)"
      ],
      "execution_count": 54,
      "outputs": [
        {
          "output_type": "execute_result",
          "data": {
            "text/plain": [
              "LinearRegression(copy_X=True, fit_intercept=True, n_jobs=None, normalize=False)"
            ]
          },
          "metadata": {
            "tags": []
          },
          "execution_count": 54
        }
      ]
    },
    {
      "cell_type": "code",
      "metadata": {
        "colab": {
          "base_uri": "https://localhost:8080/"
        },
        "id": "SQfvyNfEARSv",
        "outputId": "75d79061-61f4-4e09-db82-a7481776c66f"
      },
      "source": [
        "y_pred_4 = pol_reg_4.predict(X_poly_4)\n",
        "y_pred_4"
      ],
      "execution_count": 55,
      "outputs": [
        {
          "output_type": "execute_result",
          "data": {
            "text/plain": [
              "array([0.95895433, 1.70678126, 1.03079304, ..., 2.19945635, 1.91606348,\n",
              "       2.09237009])"
            ]
          },
          "metadata": {
            "tags": []
          },
          "execution_count": 55
        }
      ]
    },
    {
      "cell_type": "code",
      "metadata": {
        "colab": {
          "base_uri": "https://localhost:8080/"
        },
        "id": "ADXIO1A7AWxk",
        "outputId": "7ae91272-9cc3-4cd6-a5d2-11c7d24cdbd0"
      },
      "source": [
        "rmse = np.sqrt(mean_squared_error(y, y_pred_4))\n",
        "r2 = r2_score(y, y_pred_4)\n",
        "print(rmse)\n",
        "print(r2)"
      ],
      "execution_count": 56,
      "outputs": [
        {
          "output_type": "stream",
          "text": [
            "1.2982263438378099\n",
            "0.23437695259792557\n"
          ],
          "name": "stdout"
        }
      ]
    },
    {
      "cell_type": "markdown",
      "metadata": {
        "id": "YzSR46uHeuHJ"
      },
      "source": [
        "With three degrees of freedom, the model still isn't a good fit to predict the home score against home rank and away rank as the R2 is only 23% of the variance"
      ]
    },
    {
      "cell_type": "markdown",
      "metadata": {
        "id": "p9eRG_wD9yXA"
      },
      "source": [
        "##Cross Validating the Model"
      ]
    },
    {
      "cell_type": "code",
      "metadata": {
        "colab": {
          "base_uri": "https://localhost:8080/"
        },
        "id": "78IzmTMUAzIQ",
        "outputId": "85be4ee6-2ca2-4b91-f43e-2d10b4db65af"
      },
      "source": [
        "folds = KFold(n_splits=5)\n",
        "\n",
        "# note that if you have a KFold object, you can figure out how many folds you set up \n",
        "# for it using get_n_splits\n",
        "print('we are using ' +str(folds.get_n_splits(X)) + ' folds')\n",
        "\n",
        "# We now create and assess 5 models based on the folds we created.\n",
        "RMSES = [] # We will use this array to keep track of the RSME of each model\n",
        "count = 1 # This will just help \n",
        "for train_index, test_index in folds.split(X):\n",
        "  print('\\nTraining model ' + str(count))\n",
        "  \n",
        "  #setting up the train and test based on the split determined by KFold\n",
        "  #With 5 folds, we will end up with 80% of our data in the training set, and 20% in the test set, just as above\n",
        "  X_train, X_test = X[train_index], X[test_index]\n",
        "  y_train, y_test = y[train_index], y[test_index]\n",
        "  \n",
        "  #fitting a model accordingly\n",
        "  regressor = LinearRegression()  \n",
        "  regressor.fit(X_train, y_train)\n",
        "  \n",
        "  #assessing the accuraccy of the model\n",
        "  y_pred = regressor.predict(X_test)\n",
        "  \n",
        "  rmse_value =  np.sqrt(metrics.mean_squared_error(y_test, y_pred))\n",
        "  RMSES.append(rmse_value)\n",
        "  \n",
        "  print('Model ' + str(count) + ' Root Mean Squared Error:',rmse_value)\n",
        "  count = count + 1\n"
      ],
      "execution_count": 57,
      "outputs": [
        {
          "output_type": "stream",
          "text": [
            "we are using 5 folds\n",
            "\n",
            "Training model 1\n",
            "Model 1 Root Mean Squared Error: 1.3546078748843693\n",
            "\n",
            "Training model 2\n",
            "Model 2 Root Mean Squared Error: 2.0801760136007372\n",
            "\n",
            "Training model 3\n",
            "Model 3 Root Mean Squared Error: 1.184871254698326\n",
            "\n",
            "Training model 4\n",
            "Model 4 Root Mean Squared Error: 1.0275092113853865\n",
            "\n",
            "Training model 5\n",
            "Model 5 Root Mean Squared Error: 1.3459928558564775\n"
          ],
          "name": "stdout"
        }
      ]
    },
    {
      "cell_type": "code",
      "metadata": {
        "colab": {
          "base_uri": "https://localhost:8080/"
        },
        "id": "hkOjq2M6CS4p",
        "outputId": "c846ec7b-aa0f-4dbb-d34a-954249da0007"
      },
      "source": [
        "np.mean(RMSES)"
      ],
      "execution_count": 58,
      "outputs": [
        {
          "output_type": "execute_result",
          "data": {
            "text/plain": [
              "1.3986314420850594"
            ]
          },
          "metadata": {
            "tags": []
          },
          "execution_count": 58
        }
      ]
    },
    {
      "cell_type": "markdown",
      "metadata": {
        "id": "hFlYlH2OCV96"
      },
      "source": [
        "The average RMSE is close to our training model 1 and 5 which is also close to our polynomial model with 3 degrees freedom. Hence it will be most appropriate to pick our polynomial regression model with 3 degrees of freedom."
      ]
    },
    {
      "cell_type": "markdown",
      "metadata": {
        "id": "WcB8UjTTtqxm"
      },
      "source": [
        "##Logistic Regression"
      ]
    },
    {
      "cell_type": "markdown",
      "metadata": {
        "id": "OAsk7cwSwRcN"
      },
      "source": [
        "Here we'll figure out from the home team’s perspective if the game is a Win, Lose or Draw (W, L, D)"
      ]
    },
    {
      "cell_type": "code",
      "metadata": {
        "id": "dctWbGn6wl1c"
      },
      "source": [
        "df_final = df_final.copy()"
      ],
      "execution_count": 59,
      "outputs": []
    },
    {
      "cell_type": "code",
      "metadata": {
        "id": "LeANUNR4yG5X"
      },
      "source": [
        "df_final['match_result'] = df_final['home_score'] - df_final['away_score']"
      ],
      "execution_count": 60,
      "outputs": []
    },
    {
      "cell_type": "code",
      "metadata": {
        "id": "UDJtXKPywp7N"
      },
      "source": [
        "g = df_final['home_score'] - df_final['away_score']\n",
        "\n",
        "def game_result(g):\n",
        "  if g > 0:\n",
        "    return 'WIN'\n",
        "  elif g < 0:\n",
        "    return 'LOSS'\n",
        "  else:\n",
        "    return 'DRAW'"
      ],
      "execution_count": 61,
      "outputs": []
    },
    {
      "cell_type": "code",
      "metadata": {
        "colab": {
          "base_uri": "https://localhost:8080/",
          "height": 289
        },
        "id": "p2guITxTxGys",
        "outputId": "60d3d3f3-0dca-4e78-a3c2-57bbd1669e66"
      },
      "source": [
        "#We'll create a new column for game result\n",
        "df_final['match_result']= df_final['match_result'].apply(lambda g: game_result(g))\n",
        "df_final.head()"
      ],
      "execution_count": 62,
      "outputs": [
        {
          "output_type": "execute_result",
          "data": {
            "text/html": [
              "<div>\n",
              "<style scoped>\n",
              "    .dataframe tbody tr th:only-of-type {\n",
              "        vertical-align: middle;\n",
              "    }\n",
              "\n",
              "    .dataframe tbody tr th {\n",
              "        vertical-align: top;\n",
              "    }\n",
              "\n",
              "    .dataframe thead th {\n",
              "        text-align: right;\n",
              "    }\n",
              "</style>\n",
              "<table border=\"1\" class=\"dataframe\">\n",
              "  <thead>\n",
              "    <tr style=\"text-align: right;\">\n",
              "      <th></th>\n",
              "      <th>home_rank</th>\n",
              "      <th>home_team</th>\n",
              "      <th>date</th>\n",
              "      <th>year</th>\n",
              "      <th>month</th>\n",
              "      <th>away_team</th>\n",
              "      <th>home_score</th>\n",
              "      <th>away_score</th>\n",
              "      <th>tournament</th>\n",
              "      <th>away_rank</th>\n",
              "      <th>match_result</th>\n",
              "    </tr>\n",
              "  </thead>\n",
              "  <tbody>\n",
              "    <tr>\n",
              "      <th>0</th>\n",
              "      <td>8</td>\n",
              "      <td>Brazil</td>\n",
              "      <td>1993-08-08</td>\n",
              "      <td>1993</td>\n",
              "      <td>8</td>\n",
              "      <td>Mexico</td>\n",
              "      <td>1</td>\n",
              "      <td>1</td>\n",
              "      <td>Friendly</td>\n",
              "      <td>14</td>\n",
              "      <td>DRAW</td>\n",
              "    </tr>\n",
              "    <tr>\n",
              "      <th>1</th>\n",
              "      <td>35</td>\n",
              "      <td>Ecuador</td>\n",
              "      <td>1993-08-08</td>\n",
              "      <td>1993</td>\n",
              "      <td>8</td>\n",
              "      <td>Venezuela</td>\n",
              "      <td>5</td>\n",
              "      <td>0</td>\n",
              "      <td>FIFA World Cup qualification</td>\n",
              "      <td>94</td>\n",
              "      <td>WIN</td>\n",
              "    </tr>\n",
              "    <tr>\n",
              "      <th>2</th>\n",
              "      <td>59</td>\n",
              "      <td>Bolivia</td>\n",
              "      <td>1993-08-08</td>\n",
              "      <td>1993</td>\n",
              "      <td>8</td>\n",
              "      <td>Uruguay</td>\n",
              "      <td>3</td>\n",
              "      <td>1</td>\n",
              "      <td>FIFA World Cup qualification</td>\n",
              "      <td>22</td>\n",
              "      <td>WIN</td>\n",
              "    </tr>\n",
              "    <tr>\n",
              "      <th>3</th>\n",
              "      <td>65</td>\n",
              "      <td>Guinea</td>\n",
              "      <td>1993-08-08</td>\n",
              "      <td>1993</td>\n",
              "      <td>8</td>\n",
              "      <td>Sierra Leone</td>\n",
              "      <td>1</td>\n",
              "      <td>0</td>\n",
              "      <td>Friendly</td>\n",
              "      <td>86</td>\n",
              "      <td>WIN</td>\n",
              "    </tr>\n",
              "    <tr>\n",
              "      <th>4</th>\n",
              "      <td>67</td>\n",
              "      <td>Paraguay</td>\n",
              "      <td>1993-08-08</td>\n",
              "      <td>1993</td>\n",
              "      <td>8</td>\n",
              "      <td>Argentina</td>\n",
              "      <td>1</td>\n",
              "      <td>3</td>\n",
              "      <td>FIFA World Cup qualification</td>\n",
              "      <td>5</td>\n",
              "      <td>LOSS</td>\n",
              "    </tr>\n",
              "  </tbody>\n",
              "</table>\n",
              "</div>"
            ],
            "text/plain": [
              "   home_rank home_team  ... away_rank  match_result\n",
              "0          8    Brazil  ...        14          DRAW\n",
              "1         35   Ecuador  ...        94           WIN\n",
              "2         59   Bolivia  ...        22           WIN\n",
              "3         65    Guinea  ...        86           WIN\n",
              "4         67  Paraguay  ...         5          LOSS\n",
              "\n",
              "[5 rows x 11 columns]"
            ]
          },
          "metadata": {
            "tags": []
          },
          "execution_count": 62
        }
      ]
    },
    {
      "cell_type": "code",
      "metadata": {
        "colab": {
          "base_uri": "https://localhost:8080/",
          "height": 336
        },
        "id": "7PJG9w9_1Wov",
        "outputId": "d68b559c-4075-4f6c-83cc-c077499dc628"
      },
      "source": [
        "#Checking for independence between features\n",
        "\n",
        "sns.heatmap(df_final.corr())  "
      ],
      "execution_count": 63,
      "outputs": [
        {
          "output_type": "execute_result",
          "data": {
            "text/plain": [
              "<matplotlib.axes._subplots.AxesSubplot at 0x7f94b33df410>"
            ]
          },
          "metadata": {
            "tags": []
          },
          "execution_count": 63
        },
        {
          "output_type": "display_data",
          "data": {
            "image/png": "[encoded data removed]",
            "text/plain": [
              "<Figure size 432x288 with 2 Axes>"
            ]
          },
          "metadata": {
            "tags": [],
            "needs_background": "light"
          }
        }
      ]
    },
    {
      "cell_type": "code",
      "metadata": {
        "colab": {
          "base_uri": "https://localhost:8080/",
          "height": 289
        },
        "id": "214Rrtiay44v",
        "outputId": "b5b3e48e-c1e9-4939-bd95-cf816d8d94c7"
      },
      "source": [
        "#label encoding the tournament column to convert values to numericals for machine learning\n",
        "df_final = df_final.copy()\n",
        "\n",
        "df_final['match_result'] = df_final['match_result'].astype('category')\n",
        "\n",
        "from sklearn.preprocessing import LabelEncoder\n",
        "labelencoder = LabelEncoder()\n",
        "df_final['match_result'] = labelencoder.fit_transform(df_final['match_result'])\n",
        "df_final.head()"
      ],
      "execution_count": 64,
      "outputs": [
        {
          "output_type": "execute_result",
          "data": {
            "text/html": [
              "<div>\n",
              "<style scoped>\n",
              "    .dataframe tbody tr th:only-of-type {\n",
              "        vertical-align: middle;\n",
              "    }\n",
              "\n",
              "    .dataframe tbody tr th {\n",
              "        vertical-align: top;\n",
              "    }\n",
              "\n",
              "    .dataframe thead th {\n",
              "        text-align: right;\n",
              "    }\n",
              "</style>\n",
              "<table border=\"1\" class=\"dataframe\">\n",
              "  <thead>\n",
              "    <tr style=\"text-align: right;\">\n",
              "      <th></th>\n",
              "      <th>home_rank</th>\n",
              "      <th>home_team</th>\n",
              "      <th>date</th>\n",
              "      <th>year</th>\n",
              "      <th>month</th>\n",
              "      <th>away_team</th>\n",
              "      <th>home_score</th>\n",
              "      <th>away_score</th>\n",
              "      <th>tournament</th>\n",
              "      <th>away_rank</th>\n",
              "      <th>match_result</th>\n",
              "    </tr>\n",
              "  </thead>\n",
              "  <tbody>\n",
              "    <tr>\n",
              "      <th>0</th>\n",
              "      <td>8</td>\n",
              "      <td>Brazil</td>\n",
              "      <td>1993-08-08</td>\n",
              "      <td>1993</td>\n",
              "      <td>8</td>\n",
              "      <td>Mexico</td>\n",
              "      <td>1</td>\n",
              "      <td>1</td>\n",
              "      <td>Friendly</td>\n",
              "      <td>14</td>\n",
              "      <td>0</td>\n",
              "    </tr>\n",
              "    <tr>\n",
              "      <th>1</th>\n",
              "      <td>35</td>\n",
              "      <td>Ecuador</td>\n",
              "      <td>1993-08-08</td>\n",
              "      <td>1993</td>\n",
              "      <td>8</td>\n",
              "      <td>Venezuela</td>\n",
              "      <td>5</td>\n",
              "      <td>0</td>\n",
              "      <td>FIFA World Cup qualification</td>\n",
              "      <td>94</td>\n",
              "      <td>2</td>\n",
              "    </tr>\n",
              "    <tr>\n",
              "      <th>2</th>\n",
              "      <td>59</td>\n",
              "      <td>Bolivia</td>\n",
              "      <td>1993-08-08</td>\n",
              "      <td>1993</td>\n",
              "      <td>8</td>\n",
              "      <td>Uruguay</td>\n",
              "      <td>3</td>\n",
              "      <td>1</td>\n",
              "      <td>FIFA World Cup qualification</td>\n",
              "      <td>22</td>\n",
              "      <td>2</td>\n",
              "    </tr>\n",
              "    <tr>\n",
              "      <th>3</th>\n",
              "      <td>65</td>\n",
              "      <td>Guinea</td>\n",
              "      <td>1993-08-08</td>\n",
              "      <td>1993</td>\n",
              "      <td>8</td>\n",
              "      <td>Sierra Leone</td>\n",
              "      <td>1</td>\n",
              "      <td>0</td>\n",
              "      <td>Friendly</td>\n",
              "      <td>86</td>\n",
              "      <td>2</td>\n",
              "    </tr>\n",
              "    <tr>\n",
              "      <th>4</th>\n",
              "      <td>67</td>\n",
              "      <td>Paraguay</td>\n",
              "      <td>1993-08-08</td>\n",
              "      <td>1993</td>\n",
              "      <td>8</td>\n",
              "      <td>Argentina</td>\n",
              "      <td>1</td>\n",
              "      <td>3</td>\n",
              "      <td>FIFA World Cup qualification</td>\n",
              "      <td>5</td>\n",
              "      <td>1</td>\n",
              "    </tr>\n",
              "  </tbody>\n",
              "</table>\n",
              "</div>"
            ],
            "text/plain": [
              "   home_rank home_team  ... away_rank  match_result\n",
              "0          8    Brazil  ...        14             0\n",
              "1         35   Ecuador  ...        94             2\n",
              "2         59   Bolivia  ...        22             2\n",
              "3         65    Guinea  ...        86             2\n",
              "4         67  Paraguay  ...         5             1\n",
              "\n",
              "[5 rows x 11 columns]"
            ]
          },
          "metadata": {
            "tags": []
          },
          "execution_count": 64
        }
      ]
    },
    {
      "cell_type": "code",
      "metadata": {
        "id": "ozUDcKBSuJEZ"
      },
      "source": [
        "#Splitting our dataset to dependent and independent variables\n",
        "X = df_final[['home_score','away_score']]\n",
        "y= df_final['match_result']"
      ],
      "execution_count": 65,
      "outputs": []
    },
    {
      "cell_type": "code",
      "metadata": {
        "id": "0EQFWdvkvMpz"
      },
      "source": [
        "#Spliting the data into training and testing sets\n",
        "X_train, X_test, y_train, y_test = train_test_split(X, y, test_size = 0.2, random_state=0)"
      ],
      "execution_count": 66,
      "outputs": []
    },
    {
      "cell_type": "code",
      "metadata": {
        "colab": {
          "base_uri": "https://localhost:8080/"
        },
        "id": "ujfZ7xfrvlfs",
        "outputId": "8ba50c72-992c-4b02-cda8-1ccd68530738"
      },
      "source": [
        "#Fitting our model\n",
        "\n",
        "from sklearn.linear_model import LogisticRegression\n",
        "\n",
        "LogReg = LogisticRegression()\n",
        "LogReg.fit(X_train, y_train)"
      ],
      "execution_count": 67,
      "outputs": [
        {
          "output_type": "execute_result",
          "data": {
            "text/plain": [
              "LogisticRegression(C=1.0, class_weight=None, dual=False, fit_intercept=True,\n",
              "                   intercept_scaling=1, l1_ratio=None, max_iter=100,\n",
              "                   multi_class='auto', n_jobs=None, penalty='l2',\n",
              "                   random_state=None, solver='lbfgs', tol=0.0001, verbose=0,\n",
              "                   warm_start=False)"
            ]
          },
          "metadata": {
            "tags": []
          },
          "execution_count": 67
        }
      ]
    },
    {
      "cell_type": "code",
      "metadata": {
        "id": "fOLp0xEZvuRg"
      },
      "source": [
        "#Using our model to make a prediction\n",
        "y_pred = LogReg.predict(X_test)"
      ],
      "execution_count": 68,
      "outputs": []
    },
    {
      "cell_type": "code",
      "metadata": {
        "colab": {
          "base_uri": "https://localhost:8080/"
        },
        "id": "9AOqyt-UwALt",
        "outputId": "7ab675ac-146d-4e1b-b61a-c80168f41860"
      },
      "source": [
        "#Accuracy of the model\n",
        "\n",
        "from sklearn.metrics import accuracy_score\n",
        "print(f'The accuracy of the model is {accuracy_score(y_test, y_pred)}')"
      ],
      "execution_count": 69,
      "outputs": [
        {
          "output_type": "stream",
          "text": [
            "The accuracy of the model is 1.0\n"
          ],
          "name": "stdout"
        }
      ]
    },
    {
      "cell_type": "code",
      "metadata": {
        "colab": {
          "base_uri": "https://localhost:8080/"
        },
        "id": "kNB5pKQK0fqE",
        "outputId": "51bc0f71-47ba-4b78-a5a1-e180d626e93d"
      },
      "source": [
        "#Evaluating the model\n",
        "\n",
        "from sklearn.metrics import confusion_matrix\n",
        "confusion_matrix = confusion_matrix(y_test, y_pred)\n",
        "confusion_matrix"
      ],
      "execution_count": 70,
      "outputs": [
        {
          "output_type": "execute_result",
          "data": {
            "text/plain": [
              "array([[128,   0,   0],\n",
              "       [  0,  79,   0],\n",
              "       [  0,   0, 166]])"
            ]
          },
          "metadata": {
            "tags": []
          },
          "execution_count": 70
        }
      ]
    },
    {
      "cell_type": "markdown",
      "metadata": {
        "id": "8cDpu_pz0lPc"
      },
      "source": [
        "The above logistic model is 100% accurate.\n",
        "There are 128 , 79 and 166 correct predictions."
      ]
    },
    {
      "cell_type": "markdown",
      "metadata": {
        "id": "XDM80xrl2zVh"
      },
      "source": [
        "##Hyperparameter Tuning"
      ]
    },
    {
      "cell_type": "code",
      "metadata": {
        "id": "N3WloI_J3z-j"
      },
      "source": [
        "from sklearn import linear_model, datasets\n",
        "from sklearn.model_selection import GridSearchCV"
      ],
      "execution_count": 71,
      "outputs": []
    },
    {
      "cell_type": "code",
      "metadata": {
        "id": "8pYLu0Vl31Tx"
      },
      "source": [
        "#We'll use the same dependent and independent variables we used for the logistic regression\n",
        "X = df_final[['home_score','away_score']]\n",
        "y= df_final['match_result']"
      ],
      "execution_count": 72,
      "outputs": []
    },
    {
      "cell_type": "code",
      "metadata": {
        "id": "rl2EDbVm4D8Z"
      },
      "source": [
        "#Creating the logistic regression\n",
        "logistic = linear_model.LogisticRegression()"
      ],
      "execution_count": 73,
      "outputs": []
    },
    {
      "cell_type": "code",
      "metadata": {
        "id": "IBdZ6-rh4XIx"
      },
      "source": [
        "#Creating regularization penalty space\n",
        "penalty = ['l1', 'l2']"
      ],
      "execution_count": 74,
      "outputs": []
    },
    {
      "cell_type": "code",
      "metadata": {
        "id": "1SQuh8em4cQk"
      },
      "source": [
        "#Creating regularization hyperparameter space\n",
        "C = np.logspace(0, 4, 10)"
      ],
      "execution_count": 75,
      "outputs": []
    },
    {
      "cell_type": "code",
      "metadata": {
        "id": "B5tBHR5F4hKj"
      },
      "source": [
        "#Creating hyperparameter options\n",
        "hyperparameters = dict(C=C, penalty=penalty)"
      ],
      "execution_count": 76,
      "outputs": []
    },
    {
      "cell_type": "code",
      "metadata": {
        "id": "tNqlsyB24jCW"
      },
      "source": [
        "#Creating grid search using 5-fold cross validation\n",
        "clf = GridSearchCV(logistic, hyperparameters, cv=5, verbose=0)"
      ],
      "execution_count": 77,
      "outputs": []
    },
    {
      "cell_type": "code",
      "metadata": {
        "colab": {
          "base_uri": "https://localhost:8080/"
        },
        "id": "EWRmafrh4mae",
        "outputId": "431ae51f-967f-4f53-aa6d-d00717dcc154"
      },
      "source": [
        "#Fitting grid search\n",
        "best_model = clf.fit(X, y)"
      ],
      "execution_count": 78,
      "outputs": [
        {
          "output_type": "stream",
          "text": [
            "/usr/local/lib/python3.7/dist-packages/sklearn/model_selection/_validation.py:536: FitFailedWarning: Estimator fit failed. The score on this train-test partition for these parameters will be set to nan. Details: \n",
            "ValueError: Solver lbfgs supports only 'l2' or 'none' penalties, got l1 penalty.\n",
            "\n",
            "  FitFailedWarning)\n",
            "/usr/local/lib/python3.7/dist-packages/sklearn/model_selection/_validation.py:536: FitFailedWarning: Estimator fit failed. The score on this train-test partition for these parameters will be set to nan. Details: \n",
            "ValueError: Solver lbfgs supports only 'l2' or 'none' penalties, got l1 penalty.\n",
            "\n",
            "  FitFailedWarning)\n",
            "/usr/local/lib/python3.7/dist-packages/sklearn/model_selection/_validation.py:536: FitFailedWarning: Estimator fit failed. The score on this train-test partition for these parameters will be set to nan. Details: \n",
            "ValueError: Solver lbfgs supports only 'l2' or 'none' penalties, got l1 penalty.\n",
            "\n",
            "  FitFailedWarning)\n",
            "/usr/local/lib/python3.7/dist-packages/sklearn/model_selection/_validation.py:536: FitFailedWarning: Estimator fit failed. The score on this train-test partition for these parameters will be set to nan. Details: \n",
            "ValueError: Solver lbfgs supports only 'l2' or 'none' penalties, got l1 penalty.\n",
            "\n",
            "  FitFailedWarning)\n",
            "/usr/local/lib/python3.7/dist-packages/sklearn/model_selection/_validation.py:536: FitFailedWarning: Estimator fit failed. The score on this train-test partition for these parameters will be set to nan. Details: \n",
            "ValueError: Solver lbfgs supports only 'l2' or 'none' penalties, got l1 penalty.\n",
            "\n",
            "  FitFailedWarning)\n",
            "/usr/local/lib/python3.7/dist-packages/sklearn/model_selection/_validation.py:536: FitFailedWarning: Estimator fit failed. The score on this train-test partition for these parameters will be set to nan. Details: \n",
            "ValueError: Solver lbfgs supports only 'l2' or 'none' penalties, got l1 penalty.\n",
            "\n",
            "  FitFailedWarning)\n",
            "/usr/local/lib/python3.7/dist-packages/sklearn/model_selection/_validation.py:536: FitFailedWarning: Estimator fit failed. The score on this train-test partition for these parameters will be set to nan. Details: \n",
            "ValueError: Solver lbfgs supports only 'l2' or 'none' penalties, got l1 penalty.\n",
            "\n",
            "  FitFailedWarning)\n",
            "/usr/local/lib/python3.7/dist-packages/sklearn/model_selection/_validation.py:536: FitFailedWarning: Estimator fit failed. The score on this train-test partition for these parameters will be set to nan. Details: \n",
            "ValueError: Solver lbfgs supports only 'l2' or 'none' penalties, got l1 penalty.\n",
            "\n",
            "  FitFailedWarning)\n",
            "/usr/local/lib/python3.7/dist-packages/sklearn/model_selection/_validation.py:536: FitFailedWarning: Estimator fit failed. The score on this train-test partition for these parameters will be set to nan. Details: \n",
            "ValueError: Solver lbfgs supports only 'l2' or 'none' penalties, got l1 penalty.\n",
            "\n",
            "  FitFailedWarning)\n",
            "/usr/local/lib/python3.7/dist-packages/sklearn/model_selection/_validation.py:536: FitFailedWarning: Estimator fit failed. The score on this train-test partition for these parameters will be set to nan. Details: \n",
            "ValueError: Solver lbfgs supports only 'l2' or 'none' penalties, got l1 penalty.\n",
            "\n",
            "  FitFailedWarning)\n"
          ],
          "name": "stderr"
        }
      ]
    },
    {
      "cell_type": "code",
      "metadata": {
        "colab": {
          "base_uri": "https://localhost:8080/"
        },
        "id": "b1BSQ7J64r0j",
        "outputId": "52d15074-f03e-434a-9990-5b711166ea65"
      },
      "source": [
        "#Viewing best hyperparameters\n",
        "print('Best Penalty:', best_model.best_estimator_.get_params()['penalty'])\n",
        "print('Best C:', best_model.best_estimator_.get_params()['C'])"
      ],
      "execution_count": 79,
      "outputs": [
        {
          "output_type": "stream",
          "text": [
            "Best Penalty: l2\n",
            "Best C: 1.0\n"
          ],
          "name": "stdout"
        }
      ]
    },
    {
      "cell_type": "code",
      "metadata": {
        "colab": {
          "base_uri": "https://localhost:8080/"
        },
        "id": "xb4fVgX34v7J",
        "outputId": "dbe4bbe9-54a8-4757-8295-f9b9aebdbabf"
      },
      "source": [
        "#Predicting target vector\n",
        "best_model.predict(X)"
      ],
      "execution_count": 80,
      "outputs": [
        {
          "output_type": "execute_result",
          "data": {
            "text/plain": [
              "array([0, 2, 2, ..., 2, 1, 1])"
            ]
          },
          "metadata": {
            "tags": []
          },
          "execution_count": 80
        }
      ]
    },
    {
      "cell_type": "markdown",
      "metadata": {
        "id": "tk3_W6Uk6cwZ"
      },
      "source": [
        "The above model is 100% accurate since best C is 1.0"
      ]
    },
    {
      "cell_type": "markdown",
      "metadata": {
        "id": "LJkylMpW6o_c"
      },
      "source": [
        "#CONCLUSION"
      ]
    },
    {
      "cell_type": "markdown",
      "metadata": {
        "id": "-qG3u14J6sxM"
      },
      "source": [
        "The polynomial model wasn't successful because it yielded 13% accurate results while the logistic model was a good fit as it yielded 100% accurate results.\n",
        "\n",
        "There were a few errors in fitting the variables in the polynomial model and the errors need to be investigated further."
      ]
    },
    {
      "cell_type": "markdown",
      "metadata": {
        "id": "nvx5hxlz7Rox"
      },
      "source": [
        "#CHALLENGING THE SOLUTION"
      ]
    },
    {
      "cell_type": "markdown",
      "metadata": {
        "id": "XzYkCLSJFsjN"
      },
      "source": [
        "The data we worked with had a few challenges especially in merging. A lot of data was lost by the time the final merging was done which could negatively influence the accuracy of the model\n",
        "\n",
        "There were few errors experienced while fitting the polynomial model hence it wasn't possible to plot the scatter plot which could help us visualize the data and hence make substantial conclusions\n",
        "\n"
      ]
    }
  ]
}